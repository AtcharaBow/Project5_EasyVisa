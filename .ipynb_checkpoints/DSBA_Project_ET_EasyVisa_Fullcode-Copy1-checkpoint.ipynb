{
 "cells": [
  {
   "cell_type": "markdown",
   "id": "AT5OogJVFbwu",
   "metadata": {
    "id": "AT5OogJVFbwu"
   },
   "source": [
    "# EasyVisa Project\n",
    "\n",
    "## Context:\n",
    "\n",
    "Business communities in the United States are facing high demand for human resources, but one of the constant challenges is identifying and attracting the right talent, which is perhaps the most important element in remaining competitive. Companies in the United States look for hard-working, talented, and qualified individuals both locally as well as abroad.\n",
    "\n",
    "The Immigration and Nationality Act (INA) of the US permits foreign workers to come to the United States to work on either a temporary or permanent basis. The act also protects US workers against adverse impacts on their wages or working conditions by ensuring US employers' compliance with statutory requirements when they hire foreign workers to fill workforce shortages. The immigration programs are administered by the Office of Foreign Labor Certification (OFLC).\n",
    "\n",
    "OFLC processes job certification applications for employers seeking to bring foreign workers into the United States and grants certifications in those cases where employers can demonstrate that there are not sufficient US workers available to perform the work at wages that meet or exceed the wage paid for the occupation in the area of intended employment.\n",
    "\n",
    "## Objective:\n",
    "\n",
    "In FY 2016, the OFLC processed 775,979 employer applications for 1,699,957 positions for temporary and permanent labor certifications. This was a nine percent increase in the overall number of processed applications from the previous year. The process of reviewing every case is becoming a tedious task as the number of applicants is increasing every year.\n",
    "\n",
    "The increasing number of applicants every year calls for a Machine Learning based solution that can help in shortlisting the candidates having higher chances of VISA approval. OFLC has hired your firm EasyVisa for data-driven solutions. You as a data scientist have to analyze the data provided and, with the help of a classification model:\n",
    "\n",
    "* Facilitate the process of visa approvals.\n",
    "* Recommend a suitable profile for the applicants for whom the visa should be certified or denied based on the drivers that significantly influence the case status. \n",
    "\n",
    "\n",
    "## Data Description\n",
    "\n",
    "The data contains the different attributes of the employee and the employer. The detailed data dictionary is given below.\n",
    "\n",
    "* case_id: ID of each visa application\n",
    "* continent: Information of continent the employee\n",
    "* education_of_employee: Information of education of the employee\n",
    "* has_job_experience: Does the employee has any job experience? Y= Yes; N = No\n",
    "* requires_job_training: Does the employee require any job training? Y = Yes; N = No \n",
    "* no_of_employees: Number of employees in the employer's company\n",
    "* yr_of_estab: Year in which the employer's company was established\n",
    "* region_of_employment: Information of foreign worker's intended region of employment in the US.\n",
    "* prevailing_wage:  Average wage paid to similarly employed workers in a specific occupation in the area of intended employment. The purpose of the prevailing wage is to ensure that the foreign worker is not underpaid compared to other workers offering the same or similar service in the same area of employment. \n",
    "* unit_of_wage: Unit of prevailing wage. Values include Hourly, Weekly, Monthly, and Yearly.\n",
    "* full_time_position: Is the position of work full-time? Y = Full Time Position; N = Part Time Position\n",
    "* case_status:  Flag indicating if the Visa was certified or denied"
   ]
  },
  {
   "cell_type": "markdown",
   "id": "dirty-island",
   "metadata": {
    "id": "dirty-island"
   },
   "source": [
    "## Importing necessary libraries and data"
   ]
  },
  {
   "cell_type": "code",
   "execution_count": 1,
   "id": "statewide-still",
   "metadata": {
    "id": "statewide-still"
   },
   "outputs": [],
   "source": [
    "import warnings\n",
    "warnings.filterwarnings(\"ignore\")\n",
    "\n",
    "import numpy as np   \n",
    "import pandas as pd    \n",
    "import seaborn as sns\n",
    "import matplotlib.pyplot as plt\n",
    "from sklearn.tree import DecisionTreeRegressor\n",
    "from sklearn.ensemble import BaggingRegressor,RandomForestRegressor, GradientBoostingRegressor, AdaBoostRegressor, StackingRegressor\n",
    "from xgboost import XGBRegressor\n",
    "from sklearn import metrics\n",
    "from sklearn.model_selection import GridSearchCV, train_test_split"
   ]
  },
  {
   "cell_type": "markdown",
   "id": "desperate-infection",
   "metadata": {
    "id": "desperate-infection"
   },
   "source": [
    "## Data Overview\n",
    "\n",
    "- Observations\n",
    "- Sanity checks"
   ]
  },
  {
   "cell_type": "code",
   "execution_count": 2,
   "id": "persistent-juice",
   "metadata": {
    "id": "persistent-juice"
   },
   "outputs": [],
   "source": [
    "visa = pd.read_csv(\"EasyVisa.csv\") #import data"
   ]
  },
  {
   "cell_type": "code",
   "execution_count": 3,
   "id": "788e3c86",
   "metadata": {},
   "outputs": [
    {
     "data": {
      "text/html": [
       "<div>\n",
       "<style scoped>\n",
       "    .dataframe tbody tr th:only-of-type {\n",
       "        vertical-align: middle;\n",
       "    }\n",
       "\n",
       "    .dataframe tbody tr th {\n",
       "        vertical-align: top;\n",
       "    }\n",
       "\n",
       "    .dataframe thead th {\n",
       "        text-align: right;\n",
       "    }\n",
       "</style>\n",
       "<table border=\"1\" class=\"dataframe\">\n",
       "  <thead>\n",
       "    <tr style=\"text-align: right;\">\n",
       "      <th></th>\n",
       "      <th>case_id</th>\n",
       "      <th>continent</th>\n",
       "      <th>education_of_employee</th>\n",
       "      <th>has_job_experience</th>\n",
       "      <th>requires_job_training</th>\n",
       "      <th>no_of_employees</th>\n",
       "      <th>yr_of_estab</th>\n",
       "      <th>region_of_employment</th>\n",
       "      <th>prevailing_wage</th>\n",
       "      <th>unit_of_wage</th>\n",
       "      <th>full_time_position</th>\n",
       "      <th>case_status</th>\n",
       "    </tr>\n",
       "  </thead>\n",
       "  <tbody>\n",
       "    <tr>\n",
       "      <th>17639</th>\n",
       "      <td>EZYV17640</td>\n",
       "      <td>Asia</td>\n",
       "      <td>Bachelor's</td>\n",
       "      <td>Y</td>\n",
       "      <td>N</td>\n",
       "      <td>567</td>\n",
       "      <td>1992</td>\n",
       "      <td>Midwest</td>\n",
       "      <td>26842.9100</td>\n",
       "      <td>Year</td>\n",
       "      <td>Y</td>\n",
       "      <td>Certified</td>\n",
       "    </tr>\n",
       "    <tr>\n",
       "      <th>23951</th>\n",
       "      <td>EZYV23952</td>\n",
       "      <td>Oceania</td>\n",
       "      <td>Bachelor's</td>\n",
       "      <td>N</td>\n",
       "      <td>N</td>\n",
       "      <td>619</td>\n",
       "      <td>1938</td>\n",
       "      <td>Midwest</td>\n",
       "      <td>66419.9800</td>\n",
       "      <td>Year</td>\n",
       "      <td>Y</td>\n",
       "      <td>Certified</td>\n",
       "    </tr>\n",
       "    <tr>\n",
       "      <th>8625</th>\n",
       "      <td>EZYV8626</td>\n",
       "      <td>Asia</td>\n",
       "      <td>Master's</td>\n",
       "      <td>N</td>\n",
       "      <td>N</td>\n",
       "      <td>2635</td>\n",
       "      <td>2005</td>\n",
       "      <td>South</td>\n",
       "      <td>887.2921</td>\n",
       "      <td>Hour</td>\n",
       "      <td>Y</td>\n",
       "      <td>Certified</td>\n",
       "    </tr>\n",
       "    <tr>\n",
       "      <th>20206</th>\n",
       "      <td>EZYV20207</td>\n",
       "      <td>Asia</td>\n",
       "      <td>Bachelor's</td>\n",
       "      <td>Y</td>\n",
       "      <td>Y</td>\n",
       "      <td>3184</td>\n",
       "      <td>1986</td>\n",
       "      <td>Northeast</td>\n",
       "      <td>49435.8000</td>\n",
       "      <td>Year</td>\n",
       "      <td>Y</td>\n",
       "      <td>Certified</td>\n",
       "    </tr>\n",
       "    <tr>\n",
       "      <th>7471</th>\n",
       "      <td>EZYV7472</td>\n",
       "      <td>Europe</td>\n",
       "      <td>Bachelor's</td>\n",
       "      <td>Y</td>\n",
       "      <td>N</td>\n",
       "      <td>4681</td>\n",
       "      <td>1928</td>\n",
       "      <td>West</td>\n",
       "      <td>49865.1900</td>\n",
       "      <td>Year</td>\n",
       "      <td>Y</td>\n",
       "      <td>Denied</td>\n",
       "    </tr>\n",
       "    <tr>\n",
       "      <th>3433</th>\n",
       "      <td>EZYV3434</td>\n",
       "      <td>Asia</td>\n",
       "      <td>Bachelor's</td>\n",
       "      <td>Y</td>\n",
       "      <td>N</td>\n",
       "      <td>222</td>\n",
       "      <td>1989</td>\n",
       "      <td>South</td>\n",
       "      <td>813.7261</td>\n",
       "      <td>Hour</td>\n",
       "      <td>Y</td>\n",
       "      <td>Certified</td>\n",
       "    </tr>\n",
       "    <tr>\n",
       "      <th>24440</th>\n",
       "      <td>EZYV24441</td>\n",
       "      <td>Europe</td>\n",
       "      <td>High School</td>\n",
       "      <td>N</td>\n",
       "      <td>Y</td>\n",
       "      <td>3278</td>\n",
       "      <td>1994</td>\n",
       "      <td>South</td>\n",
       "      <td>204948.3900</td>\n",
       "      <td>Year</td>\n",
       "      <td>Y</td>\n",
       "      <td>Denied</td>\n",
       "    </tr>\n",
       "    <tr>\n",
       "      <th>12104</th>\n",
       "      <td>EZYV12105</td>\n",
       "      <td>Asia</td>\n",
       "      <td>Master's</td>\n",
       "      <td>Y</td>\n",
       "      <td>N</td>\n",
       "      <td>1359</td>\n",
       "      <td>1997</td>\n",
       "      <td>West</td>\n",
       "      <td>202237.0400</td>\n",
       "      <td>Year</td>\n",
       "      <td>N</td>\n",
       "      <td>Certified</td>\n",
       "    </tr>\n",
       "    <tr>\n",
       "      <th>15656</th>\n",
       "      <td>EZYV15657</td>\n",
       "      <td>Asia</td>\n",
       "      <td>Bachelor's</td>\n",
       "      <td>N</td>\n",
       "      <td>N</td>\n",
       "      <td>2081</td>\n",
       "      <td>2003</td>\n",
       "      <td>West</td>\n",
       "      <td>111713.0200</td>\n",
       "      <td>Year</td>\n",
       "      <td>Y</td>\n",
       "      <td>Denied</td>\n",
       "    </tr>\n",
       "    <tr>\n",
       "      <th>23110</th>\n",
       "      <td>EZYV23111</td>\n",
       "      <td>North America</td>\n",
       "      <td>Bachelor's</td>\n",
       "      <td>Y</td>\n",
       "      <td>N</td>\n",
       "      <td>854</td>\n",
       "      <td>1998</td>\n",
       "      <td>Northeast</td>\n",
       "      <td>444.8257</td>\n",
       "      <td>Hour</td>\n",
       "      <td>Y</td>\n",
       "      <td>Denied</td>\n",
       "    </tr>\n",
       "  </tbody>\n",
       "</table>\n",
       "</div>"
      ],
      "text/plain": [
       "         case_id      continent education_of_employee has_job_experience  \\\n",
       "17639  EZYV17640           Asia            Bachelor's                  Y   \n",
       "23951  EZYV23952        Oceania            Bachelor's                  N   \n",
       "8625    EZYV8626           Asia              Master's                  N   \n",
       "20206  EZYV20207           Asia            Bachelor's                  Y   \n",
       "7471    EZYV7472         Europe            Bachelor's                  Y   \n",
       "3433    EZYV3434           Asia            Bachelor's                  Y   \n",
       "24440  EZYV24441         Europe           High School                  N   \n",
       "12104  EZYV12105           Asia              Master's                  Y   \n",
       "15656  EZYV15657           Asia            Bachelor's                  N   \n",
       "23110  EZYV23111  North America            Bachelor's                  Y   \n",
       "\n",
       "      requires_job_training  no_of_employees  yr_of_estab  \\\n",
       "17639                     N              567         1992   \n",
       "23951                     N              619         1938   \n",
       "8625                      N             2635         2005   \n",
       "20206                     Y             3184         1986   \n",
       "7471                      N             4681         1928   \n",
       "3433                      N              222         1989   \n",
       "24440                     Y             3278         1994   \n",
       "12104                     N             1359         1997   \n",
       "15656                     N             2081         2003   \n",
       "23110                     N              854         1998   \n",
       "\n",
       "      region_of_employment  prevailing_wage unit_of_wage full_time_position  \\\n",
       "17639              Midwest       26842.9100         Year                  Y   \n",
       "23951              Midwest       66419.9800         Year                  Y   \n",
       "8625                 South         887.2921         Hour                  Y   \n",
       "20206            Northeast       49435.8000         Year                  Y   \n",
       "7471                  West       49865.1900         Year                  Y   \n",
       "3433                 South         813.7261         Hour                  Y   \n",
       "24440                South      204948.3900         Year                  Y   \n",
       "12104                 West      202237.0400         Year                  N   \n",
       "15656                 West      111713.0200         Year                  Y   \n",
       "23110            Northeast         444.8257         Hour                  Y   \n",
       "\n",
       "      case_status  \n",
       "17639   Certified  \n",
       "23951   Certified  \n",
       "8625    Certified  \n",
       "20206   Certified  \n",
       "7471       Denied  \n",
       "3433    Certified  \n",
       "24440      Denied  \n",
       "12104   Certified  \n",
       "15656      Denied  \n",
       "23110      Denied  "
      ]
     },
     "execution_count": 3,
     "metadata": {},
     "output_type": "execute_result"
    }
   ],
   "source": [
    "# to view a sample of the data and to set the ramdom_state so we will see the same samples every time running this code\n",
    "visa.sample(10, random_state = 1)"
   ]
  },
  {
   "cell_type": "code",
   "execution_count": 4,
   "id": "e1c8f2b0",
   "metadata": {},
   "outputs": [
    {
     "name": "stdout",
     "output_type": "stream",
     "text": [
      "There are 25480 rows and there are 12 columns.\n"
     ]
    }
   ],
   "source": [
    "# checking the shape of the data\n",
    "print(\"There are\", visa.shape[0], \"rows and there are\", visa.shape[1], \"columns.\")"
   ]
  },
  {
   "cell_type": "code",
   "execution_count": 5,
   "id": "cd6dbfa1",
   "metadata": {},
   "outputs": [
    {
     "name": "stdout",
     "output_type": "stream",
     "text": [
      "<class 'pandas.core.frame.DataFrame'>\n",
      "RangeIndex: 25480 entries, 0 to 25479\n",
      "Data columns (total 12 columns):\n",
      " #   Column                 Non-Null Count  Dtype  \n",
      "---  ------                 --------------  -----  \n",
      " 0   case_id                25480 non-null  object \n",
      " 1   continent              25480 non-null  object \n",
      " 2   education_of_employee  25480 non-null  object \n",
      " 3   has_job_experience     25480 non-null  object \n",
      " 4   requires_job_training  25480 non-null  object \n",
      " 5   no_of_employees        25480 non-null  int64  \n",
      " 6   yr_of_estab            25480 non-null  int64  \n",
      " 7   region_of_employment   25480 non-null  object \n",
      " 8   prevailing_wage        25480 non-null  float64\n",
      " 9   unit_of_wage           25480 non-null  object \n",
      " 10  full_time_position     25480 non-null  object \n",
      " 11  case_status            25480 non-null  object \n",
      "dtypes: float64(1), int64(2), object(9)\n",
      "memory usage: 2.3+ MB\n"
     ]
    }
   ],
   "source": [
    "visa.info() #to return information on columns"
   ]
  },
  {
   "cell_type": "markdown",
   "id": "31da5c62",
   "metadata": {},
   "source": [
    "* For Dtype, there are here are 9 objects, 2 ints, and 1 float"
   ]
  },
  {
   "cell_type": "code",
   "execution_count": 6,
   "id": "dd4573ec",
   "metadata": {},
   "outputs": [
    {
     "data": {
      "text/html": [
       "<div>\n",
       "<style scoped>\n",
       "    .dataframe tbody tr th:only-of-type {\n",
       "        vertical-align: middle;\n",
       "    }\n",
       "\n",
       "    .dataframe tbody tr th {\n",
       "        vertical-align: top;\n",
       "    }\n",
       "\n",
       "    .dataframe thead th {\n",
       "        text-align: right;\n",
       "    }\n",
       "</style>\n",
       "<table border=\"1\" class=\"dataframe\">\n",
       "  <thead>\n",
       "    <tr style=\"text-align: right;\">\n",
       "      <th></th>\n",
       "      <th>count</th>\n",
       "      <th>mean</th>\n",
       "      <th>std</th>\n",
       "      <th>min</th>\n",
       "      <th>25%</th>\n",
       "      <th>50%</th>\n",
       "      <th>75%</th>\n",
       "      <th>max</th>\n",
       "    </tr>\n",
       "  </thead>\n",
       "  <tbody>\n",
       "    <tr>\n",
       "      <th>no_of_employees</th>\n",
       "      <td>25480.0</td>\n",
       "      <td>5667.043210</td>\n",
       "      <td>22877.928848</td>\n",
       "      <td>-26.0000</td>\n",
       "      <td>1022.00</td>\n",
       "      <td>2109.00</td>\n",
       "      <td>3504.0000</td>\n",
       "      <td>602069.00</td>\n",
       "    </tr>\n",
       "    <tr>\n",
       "      <th>yr_of_estab</th>\n",
       "      <td>25480.0</td>\n",
       "      <td>1979.409929</td>\n",
       "      <td>42.366929</td>\n",
       "      <td>1800.0000</td>\n",
       "      <td>1976.00</td>\n",
       "      <td>1997.00</td>\n",
       "      <td>2005.0000</td>\n",
       "      <td>2016.00</td>\n",
       "    </tr>\n",
       "    <tr>\n",
       "      <th>prevailing_wage</th>\n",
       "      <td>25480.0</td>\n",
       "      <td>74455.814592</td>\n",
       "      <td>52815.942327</td>\n",
       "      <td>2.1367</td>\n",
       "      <td>34015.48</td>\n",
       "      <td>70308.21</td>\n",
       "      <td>107735.5125</td>\n",
       "      <td>319210.27</td>\n",
       "    </tr>\n",
       "  </tbody>\n",
       "</table>\n",
       "</div>"
      ],
      "text/plain": [
       "                   count          mean           std        min       25%  \\\n",
       "no_of_employees  25480.0   5667.043210  22877.928848   -26.0000   1022.00   \n",
       "yr_of_estab      25480.0   1979.409929     42.366929  1800.0000   1976.00   \n",
       "prevailing_wage  25480.0  74455.814592  52815.942327     2.1367  34015.48   \n",
       "\n",
       "                      50%          75%        max  \n",
       "no_of_employees   2109.00    3504.0000  602069.00  \n",
       "yr_of_estab       1997.00    2005.0000    2016.00  \n",
       "prevailing_wage  70308.21  107735.5125  319210.27  "
      ]
     },
     "execution_count": 6,
     "metadata": {},
     "output_type": "execute_result"
    }
   ],
   "source": [
    "visa.describe().T"
   ]
  },
  {
   "cell_type": "markdown",
   "id": "e32282b2",
   "metadata": {},
   "source": [
    "* `no_of_employees` has 5,667 persons as mean, 2,109 as median with minimum at -26 persons and maximun at 602,069. The range is extremely large. At least 75% of employers have number of employees less than 3,600. Since the minimum number of employees is in a negative number, we will do more investigation on it.\n",
    "* `yr_of_estab` has mean at 1979, median at 1997, minimum at 1800 and maximum at 2016. Most of employers were established in late 1900s. \n",
    "* `prevailing_wage`, mean is 74,456 dollars, median is 70,308 dollars, with 2 dollars as minimum and 319,210 dollars as maximun. Again, the range is extremely large. We will investigate it more. "
   ]
  },
  {
   "cell_type": "code",
   "execution_count": 7,
   "id": "7891e4d2",
   "metadata": {},
   "outputs": [
    {
     "data": {
      "text/plain": [
       "case_id                  0\n",
       "continent                0\n",
       "education_of_employee    0\n",
       "has_job_experience       0\n",
       "requires_job_training    0\n",
       "no_of_employees          0\n",
       "yr_of_estab              0\n",
       "region_of_employment     0\n",
       "prevailing_wage          0\n",
       "unit_of_wage             0\n",
       "full_time_position       0\n",
       "case_status              0\n",
       "dtype: int64"
      ]
     },
     "execution_count": 7,
     "metadata": {},
     "output_type": "execute_result"
    }
   ],
   "source": [
    "visa.isnull().sum()"
   ]
  },
  {
   "cell_type": "markdown",
   "id": "8d665b57",
   "metadata": {},
   "source": [
    "No missing value"
   ]
  },
  {
   "cell_type": "code",
   "execution_count": 8,
   "id": "510f9ac0",
   "metadata": {},
   "outputs": [
    {
     "name": "stdout",
     "output_type": "stream",
     "text": [
      "There is 0 duplication(s).\n"
     ]
    }
   ],
   "source": [
    "print('There is',visa.duplicated().sum(), 'duplication(s).')"
   ]
  },
  {
   "cell_type": "code",
   "execution_count": 9,
   "id": "b121a7fc",
   "metadata": {},
   "outputs": [],
   "source": [
    "data = visa.copy() #to copy file so we can keep original data unchanged."
   ]
  },
  {
   "cell_type": "code",
   "execution_count": 10,
   "id": "5300026e",
   "metadata": {},
   "outputs": [
    {
     "name": "stdout",
     "output_type": "stream",
     "text": [
      "<class 'pandas.core.frame.DataFrame'>\n",
      "RangeIndex: 25480 entries, 0 to 25479\n",
      "Data columns (total 12 columns):\n",
      " #   Column                 Non-Null Count  Dtype   \n",
      "---  ------                 --------------  -----   \n",
      " 0   case_id                25480 non-null  category\n",
      " 1   continent              25480 non-null  category\n",
      " 2   education_of_employee  25480 non-null  category\n",
      " 3   has_job_experience     25480 non-null  category\n",
      " 4   requires_job_training  25480 non-null  category\n",
      " 5   no_of_employees        25480 non-null  int64   \n",
      " 6   yr_of_estab            25480 non-null  int64   \n",
      " 7   region_of_employment   25480 non-null  category\n",
      " 8   prevailing_wage        25480 non-null  float64 \n",
      " 9   unit_of_wage           25480 non-null  category\n",
      " 10  full_time_position     25480 non-null  category\n",
      " 11  case_status            25480 non-null  category\n",
      "dtypes: category(9), float64(1), int64(2)\n",
      "memory usage: 2.0 MB\n"
     ]
    }
   ],
   "source": [
    "#for feature in data.columns: \n",
    "    #if creditData[feature].dtype == 'object': \n",
    "        #creditData[feature] = pd.Categorical(creditData[feature])# Replace strings with an integer\n",
    "#creditData.head(10)\n",
    "\n",
    "for feature in data.columns: # Loop through all columns in the dataframe\n",
    "    if data[feature].dtype == 'object': # Only apply for columns with categorical strings\n",
    "        data[feature] = pd.Categorical(data[feature]) # Replace strings with an integer\n",
    "data.info() #to check Dtype"
   ]
  },
  {
   "cell_type": "code",
   "execution_count": 11,
   "id": "d3f8a541",
   "metadata": {
    "scrolled": true
   },
   "outputs": [
    {
     "data": {
      "text/plain": [
       "case_id                  25480\n",
       "continent                    6\n",
       "education_of_employee        4\n",
       "has_job_experience           2\n",
       "requires_job_training        2\n",
       "no_of_employees           7105\n",
       "yr_of_estab                199\n",
       "region_of_employment         5\n",
       "prevailing_wage          25454\n",
       "unit_of_wage                 4\n",
       "full_time_position           2\n",
       "case_status                  2\n",
       "dtype: int64"
      ]
     },
     "execution_count": 11,
     "metadata": {},
     "output_type": "execute_result"
    }
   ],
   "source": [
    "data.nunique() # to check for number of unique values"
   ]
  },
  {
   "cell_type": "markdown",
   "id": "96768b73",
   "metadata": {},
   "source": [
    "* There are 25480 uniquely `case_id`. Therefore, we decided to drop the case_id since each case was assigned as an individual number. It won't add anything to the models.\n",
    "* There are 6 continents, 4 education levels, 5 regions of employment and 4 unit of wage.\n",
    "* `has_job_experience`, `requires_job_training`, `full_time_position`, and `case_status` have 2 types of values."
   ]
  },
  {
   "cell_type": "code",
   "execution_count": 12,
   "id": "cab309d0",
   "metadata": {},
   "outputs": [],
   "source": [
    "data = data.drop('case_id', axis=1) #to drop case_id column "
   ]
  },
  {
   "cell_type": "markdown",
   "id": "seasonal-calibration",
   "metadata": {
    "id": "seasonal-calibration"
   },
   "source": [
    "## Exploratory Data Analysis (EDA)\n",
    "\n",
    "- EDA is an important part of any project involving data.\n",
    "- It is important to investigate and understand the data better before building a model with it.\n",
    "- A few questions have been mentioned below which will help you approach the analysis in the right manner and generate insights from the data.\n",
    "- A thorough analysis of the data, in addition to the questions mentioned below, should be done."
   ]
  },
  {
   "cell_type": "markdown",
   "id": "26157dc5",
   "metadata": {},
   "source": [
    "### Univariate analysis"
   ]
  },
  {
   "cell_type": "code",
   "execution_count": 13,
   "id": "right-permit",
   "metadata": {
    "id": "right-permit"
   },
   "outputs": [],
   "source": [
    "# function to plot a boxplot and a histogram along the same scale.\n",
    "\n",
    "\n",
    "def histogram_boxplot(data, feature, figsize=(12, 7), kde=False, bins=None):\n",
    "    \"\"\"\n",
    "    Boxplot and histogram combined\n",
    "\n",
    "    data: dataframe\n",
    "    feature: dataframe column\n",
    "    figsize: size of figure (default (12,7))\n",
    "    kde: whether to show the density curve (default False)\n",
    "    bins: number of bins for histogram (default None)\n",
    "    \"\"\"\n",
    "    f2, (ax_box2, ax_hist2) = plt.subplots(\n",
    "        nrows=2,  # Number of rows of the subplot grid= 2\n",
    "        sharex=True,  # x-axis will be shared among all subplots\n",
    "        gridspec_kw={\"height_ratios\": (0.25, 0.75)},\n",
    "        figsize=figsize,\n",
    "    )  # creating the 2 subplots\n",
    "    sns.boxplot(\n",
    "        data=data, x=feature, ax=ax_box2, showmeans=True, color=\"violet\"\n",
    "    )  # boxplot will be created and a star will indicate the mean value of the column\n",
    "    sns.histplot(\n",
    "        data=data, x=feature, kde=kde, ax=ax_hist2, bins=bins, palette=\"winter\"\n",
    "    ) if bins else sns.histplot(\n",
    "        data=data, x=feature, kde=kde, ax=ax_hist2\n",
    "    )  # For histogram\n",
    "    ax_hist2.axvline(\n",
    "        data[feature].mean(), color=\"green\", linestyle=\"--\"\n",
    "    )  # Add mean to the histogram\n",
    "    ax_hist2.axvline(\n",
    "        data[feature].median(), color=\"black\", linestyle=\"-\"\n",
    "    )  # Add median to the histogram"
   ]
  },
  {
   "cell_type": "markdown",
   "id": "e810384d",
   "metadata": {},
   "source": [
    "### Number of employees in the employer's company"
   ]
  },
  {
   "cell_type": "code",
   "execution_count": 14,
   "id": "5942e369",
   "metadata": {
    "scrolled": true
   },
   "outputs": [
    {
     "data": {
      "image/png": "[encoded data removed]",
      "text/plain": [
       "<Figure size 864x504 with 2 Axes>"
      ]
     },
     "metadata": {
      "needs_background": "light"
     },
     "output_type": "display_data"
    }
   ],
   "source": [
    "histogram_boxplot(data, \"no_of_employees\")"
   ]
  },
  {
   "cell_type": "code",
   "execution_count": 15,
   "id": "7f452cd7",
   "metadata": {},
   "outputs": [
    {
     "name": "stdout",
     "output_type": "stream",
     "text": [
      "Employers' number of employees is rage from -26 to 602069 .\n"
     ]
    }
   ],
   "source": [
    "print(\"Employers' number of employees is rage from\", data.no_of_employees.min(), \"to\", data.no_of_employees.max(),\".\")"
   ]
  },
  {
   "cell_type": "markdown",
   "id": "8a156d40",
   "metadata": {},
   "source": [
    "* `no_of_empoyees` has an extream right-skewed with a range from -26 to 602069 with mean and median close to 0. \n",
    "* There are a large range of outliers. \n",
    "* We will look into negative number of employees.\n",
    "* We will review the outliers in the bivariate analysis section."
   ]
  },
  {
   "cell_type": "code",
   "execution_count": 16,
   "id": "23322339",
   "metadata": {},
   "outputs": [
    {
     "data": {
      "text/html": [
       "<div>\n",
       "<style scoped>\n",
       "    .dataframe tbody tr th:only-of-type {\n",
       "        vertical-align: middle;\n",
       "    }\n",
       "\n",
       "    .dataframe tbody tr th {\n",
       "        vertical-align: top;\n",
       "    }\n",
       "\n",
       "    .dataframe thead th {\n",
       "        text-align: right;\n",
       "    }\n",
       "</style>\n",
       "<table border=\"1\" class=\"dataframe\">\n",
       "  <thead>\n",
       "    <tr style=\"text-align: right;\">\n",
       "      <th></th>\n",
       "      <th>continent</th>\n",
       "      <th>education_of_employee</th>\n",
       "      <th>has_job_experience</th>\n",
       "      <th>requires_job_training</th>\n",
       "      <th>no_of_employees</th>\n",
       "      <th>yr_of_estab</th>\n",
       "      <th>region_of_employment</th>\n",
       "      <th>prevailing_wage</th>\n",
       "      <th>unit_of_wage</th>\n",
       "      <th>full_time_position</th>\n",
       "      <th>case_status</th>\n",
       "    </tr>\n",
       "  </thead>\n",
       "  <tbody>\n",
       "    <tr>\n",
       "      <th>245</th>\n",
       "      <td>Europe</td>\n",
       "      <td>Master's</td>\n",
       "      <td>N</td>\n",
       "      <td>N</td>\n",
       "      <td>-25</td>\n",
       "      <td>1980</td>\n",
       "      <td>Northeast</td>\n",
       "      <td>39452.9900</td>\n",
       "      <td>Year</td>\n",
       "      <td>Y</td>\n",
       "      <td>Certified</td>\n",
       "    </tr>\n",
       "    <tr>\n",
       "      <th>378</th>\n",
       "      <td>Asia</td>\n",
       "      <td>Bachelor's</td>\n",
       "      <td>N</td>\n",
       "      <td>Y</td>\n",
       "      <td>-11</td>\n",
       "      <td>2011</td>\n",
       "      <td>Northeast</td>\n",
       "      <td>32506.1400</td>\n",
       "      <td>Year</td>\n",
       "      <td>Y</td>\n",
       "      <td>Denied</td>\n",
       "    </tr>\n",
       "    <tr>\n",
       "      <th>832</th>\n",
       "      <td>South America</td>\n",
       "      <td>Master's</td>\n",
       "      <td>Y</td>\n",
       "      <td>N</td>\n",
       "      <td>-17</td>\n",
       "      <td>2002</td>\n",
       "      <td>South</td>\n",
       "      <td>129701.9400</td>\n",
       "      <td>Year</td>\n",
       "      <td>Y</td>\n",
       "      <td>Certified</td>\n",
       "    </tr>\n",
       "    <tr>\n",
       "      <th>2918</th>\n",
       "      <td>Asia</td>\n",
       "      <td>Master's</td>\n",
       "      <td>Y</td>\n",
       "      <td>N</td>\n",
       "      <td>-26</td>\n",
       "      <td>2005</td>\n",
       "      <td>Midwest</td>\n",
       "      <td>112799.4600</td>\n",
       "      <td>Year</td>\n",
       "      <td>Y</td>\n",
       "      <td>Certified</td>\n",
       "    </tr>\n",
       "    <tr>\n",
       "      <th>6439</th>\n",
       "      <td>Asia</td>\n",
       "      <td>Bachelor's</td>\n",
       "      <td>N</td>\n",
       "      <td>N</td>\n",
       "      <td>-14</td>\n",
       "      <td>2013</td>\n",
       "      <td>South</td>\n",
       "      <td>103.9700</td>\n",
       "      <td>Hour</td>\n",
       "      <td>Y</td>\n",
       "      <td>Denied</td>\n",
       "    </tr>\n",
       "    <tr>\n",
       "      <th>6634</th>\n",
       "      <td>Asia</td>\n",
       "      <td>Bachelor's</td>\n",
       "      <td>Y</td>\n",
       "      <td>N</td>\n",
       "      <td>-26</td>\n",
       "      <td>1923</td>\n",
       "      <td>West</td>\n",
       "      <td>5247.3200</td>\n",
       "      <td>Year</td>\n",
       "      <td>Y</td>\n",
       "      <td>Denied</td>\n",
       "    </tr>\n",
       "    <tr>\n",
       "      <th>7224</th>\n",
       "      <td>Europe</td>\n",
       "      <td>Doctorate</td>\n",
       "      <td>N</td>\n",
       "      <td>N</td>\n",
       "      <td>-25</td>\n",
       "      <td>1998</td>\n",
       "      <td>Midwest</td>\n",
       "      <td>141435.9500</td>\n",
       "      <td>Year</td>\n",
       "      <td>Y</td>\n",
       "      <td>Certified</td>\n",
       "    </tr>\n",
       "    <tr>\n",
       "      <th>7281</th>\n",
       "      <td>Asia</td>\n",
       "      <td>High School</td>\n",
       "      <td>N</td>\n",
       "      <td>N</td>\n",
       "      <td>-14</td>\n",
       "      <td>2000</td>\n",
       "      <td>Midwest</td>\n",
       "      <td>58488.5000</td>\n",
       "      <td>Year</td>\n",
       "      <td>Y</td>\n",
       "      <td>Denied</td>\n",
       "    </tr>\n",
       "    <tr>\n",
       "      <th>7318</th>\n",
       "      <td>Asia</td>\n",
       "      <td>Bachelor's</td>\n",
       "      <td>Y</td>\n",
       "      <td>Y</td>\n",
       "      <td>-26</td>\n",
       "      <td>2006</td>\n",
       "      <td>South</td>\n",
       "      <td>115005.6100</td>\n",
       "      <td>Year</td>\n",
       "      <td>Y</td>\n",
       "      <td>Certified</td>\n",
       "    </tr>\n",
       "    <tr>\n",
       "      <th>7761</th>\n",
       "      <td>Asia</td>\n",
       "      <td>Master's</td>\n",
       "      <td>N</td>\n",
       "      <td>N</td>\n",
       "      <td>-11</td>\n",
       "      <td>2009</td>\n",
       "      <td>Midwest</td>\n",
       "      <td>38457.5100</td>\n",
       "      <td>Year</td>\n",
       "      <td>Y</td>\n",
       "      <td>Certified</td>\n",
       "    </tr>\n",
       "    <tr>\n",
       "      <th>9872</th>\n",
       "      <td>Europe</td>\n",
       "      <td>Master's</td>\n",
       "      <td>Y</td>\n",
       "      <td>N</td>\n",
       "      <td>-26</td>\n",
       "      <td>1996</td>\n",
       "      <td>South</td>\n",
       "      <td>37397.0500</td>\n",
       "      <td>Year</td>\n",
       "      <td>Y</td>\n",
       "      <td>Certified</td>\n",
       "    </tr>\n",
       "    <tr>\n",
       "      <th>11493</th>\n",
       "      <td>Asia</td>\n",
       "      <td>High School</td>\n",
       "      <td>Y</td>\n",
       "      <td>N</td>\n",
       "      <td>-14</td>\n",
       "      <td>1999</td>\n",
       "      <td>South</td>\n",
       "      <td>27599.3500</td>\n",
       "      <td>Year</td>\n",
       "      <td>Y</td>\n",
       "      <td>Denied</td>\n",
       "    </tr>\n",
       "    <tr>\n",
       "      <th>13471</th>\n",
       "      <td>North America</td>\n",
       "      <td>Master's</td>\n",
       "      <td>N</td>\n",
       "      <td>N</td>\n",
       "      <td>-17</td>\n",
       "      <td>2003</td>\n",
       "      <td>Northeast</td>\n",
       "      <td>257.2413</td>\n",
       "      <td>Hour</td>\n",
       "      <td>Y</td>\n",
       "      <td>Denied</td>\n",
       "    </tr>\n",
       "    <tr>\n",
       "      <th>14022</th>\n",
       "      <td>Asia</td>\n",
       "      <td>Bachelor's</td>\n",
       "      <td>N</td>\n",
       "      <td>Y</td>\n",
       "      <td>-11</td>\n",
       "      <td>1946</td>\n",
       "      <td>Northeast</td>\n",
       "      <td>108403.5600</td>\n",
       "      <td>Year</td>\n",
       "      <td>Y</td>\n",
       "      <td>Certified</td>\n",
       "    </tr>\n",
       "    <tr>\n",
       "      <th>14146</th>\n",
       "      <td>Asia</td>\n",
       "      <td>Bachelor's</td>\n",
       "      <td>N</td>\n",
       "      <td>Y</td>\n",
       "      <td>-26</td>\n",
       "      <td>1954</td>\n",
       "      <td>West</td>\n",
       "      <td>81982.2700</td>\n",
       "      <td>Year</td>\n",
       "      <td>Y</td>\n",
       "      <td>Certified</td>\n",
       "    </tr>\n",
       "    <tr>\n",
       "      <th>14726</th>\n",
       "      <td>Asia</td>\n",
       "      <td>Master's</td>\n",
       "      <td>N</td>\n",
       "      <td>N</td>\n",
       "      <td>-11</td>\n",
       "      <td>2000</td>\n",
       "      <td>Midwest</td>\n",
       "      <td>167851.8000</td>\n",
       "      <td>Year</td>\n",
       "      <td>Y</td>\n",
       "      <td>Certified</td>\n",
       "    </tr>\n",
       "    <tr>\n",
       "      <th>15600</th>\n",
       "      <td>Asia</td>\n",
       "      <td>Bachelor's</td>\n",
       "      <td>N</td>\n",
       "      <td>N</td>\n",
       "      <td>-14</td>\n",
       "      <td>2014</td>\n",
       "      <td>South</td>\n",
       "      <td>24641.6100</td>\n",
       "      <td>Year</td>\n",
       "      <td>Y</td>\n",
       "      <td>Denied</td>\n",
       "    </tr>\n",
       "    <tr>\n",
       "      <th>15859</th>\n",
       "      <td>Asia</td>\n",
       "      <td>High School</td>\n",
       "      <td>N</td>\n",
       "      <td>N</td>\n",
       "      <td>-11</td>\n",
       "      <td>1969</td>\n",
       "      <td>South</td>\n",
       "      <td>44640.6000</td>\n",
       "      <td>Year</td>\n",
       "      <td>Y</td>\n",
       "      <td>Denied</td>\n",
       "    </tr>\n",
       "    <tr>\n",
       "      <th>16157</th>\n",
       "      <td>Asia</td>\n",
       "      <td>Master's</td>\n",
       "      <td>Y</td>\n",
       "      <td>N</td>\n",
       "      <td>-11</td>\n",
       "      <td>1994</td>\n",
       "      <td>South</td>\n",
       "      <td>62681.2500</td>\n",
       "      <td>Year</td>\n",
       "      <td>Y</td>\n",
       "      <td>Certified</td>\n",
       "    </tr>\n",
       "    <tr>\n",
       "      <th>16883</th>\n",
       "      <td>North America</td>\n",
       "      <td>Bachelor's</td>\n",
       "      <td>Y</td>\n",
       "      <td>N</td>\n",
       "      <td>-26</td>\n",
       "      <td>1968</td>\n",
       "      <td>Northeast</td>\n",
       "      <td>168.1558</td>\n",
       "      <td>Hour</td>\n",
       "      <td>Y</td>\n",
       "      <td>Denied</td>\n",
       "    </tr>\n",
       "    <tr>\n",
       "      <th>17006</th>\n",
       "      <td>Asia</td>\n",
       "      <td>Doctorate</td>\n",
       "      <td>Y</td>\n",
       "      <td>N</td>\n",
       "      <td>-11</td>\n",
       "      <td>1984</td>\n",
       "      <td>West</td>\n",
       "      <td>25753.5100</td>\n",
       "      <td>Year</td>\n",
       "      <td>Y</td>\n",
       "      <td>Denied</td>\n",
       "    </tr>\n",
       "    <tr>\n",
       "      <th>17655</th>\n",
       "      <td>North America</td>\n",
       "      <td>Bachelor's</td>\n",
       "      <td>Y</td>\n",
       "      <td>N</td>\n",
       "      <td>-17</td>\n",
       "      <td>2007</td>\n",
       "      <td>Northeast</td>\n",
       "      <td>129753.1800</td>\n",
       "      <td>Year</td>\n",
       "      <td>Y</td>\n",
       "      <td>Denied</td>\n",
       "    </tr>\n",
       "    <tr>\n",
       "      <th>17844</th>\n",
       "      <td>Asia</td>\n",
       "      <td>Bachelor's</td>\n",
       "      <td>N</td>\n",
       "      <td>N</td>\n",
       "      <td>-14</td>\n",
       "      <td>2012</td>\n",
       "      <td>West</td>\n",
       "      <td>29325.8500</td>\n",
       "      <td>Year</td>\n",
       "      <td>Y</td>\n",
       "      <td>Denied</td>\n",
       "    </tr>\n",
       "    <tr>\n",
       "      <th>17983</th>\n",
       "      <td>Asia</td>\n",
       "      <td>Bachelor's</td>\n",
       "      <td>N</td>\n",
       "      <td>N</td>\n",
       "      <td>-26</td>\n",
       "      <td>2004</td>\n",
       "      <td>South</td>\n",
       "      <td>84359.9800</td>\n",
       "      <td>Year</td>\n",
       "      <td>Y</td>\n",
       "      <td>Denied</td>\n",
       "    </tr>\n",
       "    <tr>\n",
       "      <th>20815</th>\n",
       "      <td>Asia</td>\n",
       "      <td>Bachelor's</td>\n",
       "      <td>N</td>\n",
       "      <td>Y</td>\n",
       "      <td>-17</td>\n",
       "      <td>1990</td>\n",
       "      <td>West</td>\n",
       "      <td>91897.5700</td>\n",
       "      <td>Year</td>\n",
       "      <td>Y</td>\n",
       "      <td>Certified</td>\n",
       "    </tr>\n",
       "    <tr>\n",
       "      <th>20984</th>\n",
       "      <td>Europe</td>\n",
       "      <td>Doctorate</td>\n",
       "      <td>Y</td>\n",
       "      <td>N</td>\n",
       "      <td>-14</td>\n",
       "      <td>1989</td>\n",
       "      <td>Midwest</td>\n",
       "      <td>37012.8000</td>\n",
       "      <td>Year</td>\n",
       "      <td>Y</td>\n",
       "      <td>Certified</td>\n",
       "    </tr>\n",
       "    <tr>\n",
       "      <th>21255</th>\n",
       "      <td>North America</td>\n",
       "      <td>High School</td>\n",
       "      <td>N</td>\n",
       "      <td>N</td>\n",
       "      <td>-25</td>\n",
       "      <td>1987</td>\n",
       "      <td>South</td>\n",
       "      <td>99405.4700</td>\n",
       "      <td>Year</td>\n",
       "      <td>N</td>\n",
       "      <td>Denied</td>\n",
       "    </tr>\n",
       "    <tr>\n",
       "      <th>21760</th>\n",
       "      <td>Asia</td>\n",
       "      <td>Bachelor's</td>\n",
       "      <td>Y</td>\n",
       "      <td>N</td>\n",
       "      <td>-25</td>\n",
       "      <td>2000</td>\n",
       "      <td>West</td>\n",
       "      <td>100463.5800</td>\n",
       "      <td>Year</td>\n",
       "      <td>Y</td>\n",
       "      <td>Certified</td>\n",
       "    </tr>\n",
       "    <tr>\n",
       "      <th>21944</th>\n",
       "      <td>Africa</td>\n",
       "      <td>Master's</td>\n",
       "      <td>Y</td>\n",
       "      <td>N</td>\n",
       "      <td>-25</td>\n",
       "      <td>1977</td>\n",
       "      <td>Midwest</td>\n",
       "      <td>79150.5100</td>\n",
       "      <td>Year</td>\n",
       "      <td>Y</td>\n",
       "      <td>Certified</td>\n",
       "    </tr>\n",
       "    <tr>\n",
       "      <th>22084</th>\n",
       "      <td>North America</td>\n",
       "      <td>Bachelor's</td>\n",
       "      <td>Y</td>\n",
       "      <td>N</td>\n",
       "      <td>-14</td>\n",
       "      <td>1980</td>\n",
       "      <td>West</td>\n",
       "      <td>691.0609</td>\n",
       "      <td>Hour</td>\n",
       "      <td>Y</td>\n",
       "      <td>Denied</td>\n",
       "    </tr>\n",
       "    <tr>\n",
       "      <th>22388</th>\n",
       "      <td>Asia</td>\n",
       "      <td>Master's</td>\n",
       "      <td>Y</td>\n",
       "      <td>N</td>\n",
       "      <td>-14</td>\n",
       "      <td>1986</td>\n",
       "      <td>South</td>\n",
       "      <td>17893.1100</td>\n",
       "      <td>Year</td>\n",
       "      <td>Y</td>\n",
       "      <td>Certified</td>\n",
       "    </tr>\n",
       "    <tr>\n",
       "      <th>23186</th>\n",
       "      <td>Asia</td>\n",
       "      <td>Master's</td>\n",
       "      <td>N</td>\n",
       "      <td>Y</td>\n",
       "      <td>-11</td>\n",
       "      <td>2007</td>\n",
       "      <td>Midwest</td>\n",
       "      <td>120195.3500</td>\n",
       "      <td>Year</td>\n",
       "      <td>Y</td>\n",
       "      <td>Certified</td>\n",
       "    </tr>\n",
       "    <tr>\n",
       "      <th>23476</th>\n",
       "      <td>Europe</td>\n",
       "      <td>Master's</td>\n",
       "      <td>Y</td>\n",
       "      <td>N</td>\n",
       "      <td>-11</td>\n",
       "      <td>2000</td>\n",
       "      <td>West</td>\n",
       "      <td>95072.7500</td>\n",
       "      <td>Year</td>\n",
       "      <td>Y</td>\n",
       "      <td>Denied</td>\n",
       "    </tr>\n",
       "  </tbody>\n",
       "</table>\n",
       "</div>"
      ],
      "text/plain": [
       "           continent education_of_employee has_job_experience  \\\n",
       "245           Europe              Master's                  N   \n",
       "378             Asia            Bachelor's                  N   \n",
       "832    South America              Master's                  Y   \n",
       "2918            Asia              Master's                  Y   \n",
       "6439            Asia            Bachelor's                  N   \n",
       "6634            Asia            Bachelor's                  Y   \n",
       "7224          Europe             Doctorate                  N   \n",
       "7281            Asia           High School                  N   \n",
       "7318            Asia            Bachelor's                  Y   \n",
       "7761            Asia              Master's                  N   \n",
       "9872          Europe              Master's                  Y   \n",
       "11493           Asia           High School                  Y   \n",
       "13471  North America              Master's                  N   \n",
       "14022           Asia            Bachelor's                  N   \n",
       "14146           Asia            Bachelor's                  N   \n",
       "14726           Asia              Master's                  N   \n",
       "15600           Asia            Bachelor's                  N   \n",
       "15859           Asia           High School                  N   \n",
       "16157           Asia              Master's                  Y   \n",
       "16883  North America            Bachelor's                  Y   \n",
       "17006           Asia             Doctorate                  Y   \n",
       "17655  North America            Bachelor's                  Y   \n",
       "17844           Asia            Bachelor's                  N   \n",
       "17983           Asia            Bachelor's                  N   \n",
       "20815           Asia            Bachelor's                  N   \n",
       "20984         Europe             Doctorate                  Y   \n",
       "21255  North America           High School                  N   \n",
       "21760           Asia            Bachelor's                  Y   \n",
       "21944         Africa              Master's                  Y   \n",
       "22084  North America            Bachelor's                  Y   \n",
       "22388           Asia              Master's                  Y   \n",
       "23186           Asia              Master's                  N   \n",
       "23476         Europe              Master's                  Y   \n",
       "\n",
       "      requires_job_training  no_of_employees  yr_of_estab  \\\n",
       "245                       N              -25         1980   \n",
       "378                       Y              -11         2011   \n",
       "832                       N              -17         2002   \n",
       "2918                      N              -26         2005   \n",
       "6439                      N              -14         2013   \n",
       "6634                      N              -26         1923   \n",
       "7224                      N              -25         1998   \n",
       "7281                      N              -14         2000   \n",
       "7318                      Y              -26         2006   \n",
       "7761                      N              -11         2009   \n",
       "9872                      N              -26         1996   \n",
       "11493                     N              -14         1999   \n",
       "13471                     N              -17         2003   \n",
       "14022                     Y              -11         1946   \n",
       "14146                     Y              -26         1954   \n",
       "14726                     N              -11         2000   \n",
       "15600                     N              -14         2014   \n",
       "15859                     N              -11         1969   \n",
       "16157                     N              -11         1994   \n",
       "16883                     N              -26         1968   \n",
       "17006                     N              -11         1984   \n",
       "17655                     N              -17         2007   \n",
       "17844                     N              -14         2012   \n",
       "17983                     N              -26         2004   \n",
       "20815                     Y              -17         1990   \n",
       "20984                     N              -14         1989   \n",
       "21255                     N              -25         1987   \n",
       "21760                     N              -25         2000   \n",
       "21944                     N              -25         1977   \n",
       "22084                     N              -14         1980   \n",
       "22388                     N              -14         1986   \n",
       "23186                     Y              -11         2007   \n",
       "23476                     N              -11         2000   \n",
       "\n",
       "      region_of_employment  prevailing_wage unit_of_wage full_time_position  \\\n",
       "245              Northeast       39452.9900         Year                  Y   \n",
       "378              Northeast       32506.1400         Year                  Y   \n",
       "832                  South      129701.9400         Year                  Y   \n",
       "2918               Midwest      112799.4600         Year                  Y   \n",
       "6439                 South         103.9700         Hour                  Y   \n",
       "6634                  West        5247.3200         Year                  Y   \n",
       "7224               Midwest      141435.9500         Year                  Y   \n",
       "7281               Midwest       58488.5000         Year                  Y   \n",
       "7318                 South      115005.6100         Year                  Y   \n",
       "7761               Midwest       38457.5100         Year                  Y   \n",
       "9872                 South       37397.0500         Year                  Y   \n",
       "11493                South       27599.3500         Year                  Y   \n",
       "13471            Northeast         257.2413         Hour                  Y   \n",
       "14022            Northeast      108403.5600         Year                  Y   \n",
       "14146                 West       81982.2700         Year                  Y   \n",
       "14726              Midwest      167851.8000         Year                  Y   \n",
       "15600                South       24641.6100         Year                  Y   \n",
       "15859                South       44640.6000         Year                  Y   \n",
       "16157                South       62681.2500         Year                  Y   \n",
       "16883            Northeast         168.1558         Hour                  Y   \n",
       "17006                 West       25753.5100         Year                  Y   \n",
       "17655            Northeast      129753.1800         Year                  Y   \n",
       "17844                 West       29325.8500         Year                  Y   \n",
       "17983                South       84359.9800         Year                  Y   \n",
       "20815                 West       91897.5700         Year                  Y   \n",
       "20984              Midwest       37012.8000         Year                  Y   \n",
       "21255                South       99405.4700         Year                  N   \n",
       "21760                 West      100463.5800         Year                  Y   \n",
       "21944              Midwest       79150.5100         Year                  Y   \n",
       "22084                 West         691.0609         Hour                  Y   \n",
       "22388                South       17893.1100         Year                  Y   \n",
       "23186              Midwest      120195.3500         Year                  Y   \n",
       "23476                 West       95072.7500         Year                  Y   \n",
       "\n",
       "      case_status  \n",
       "245     Certified  \n",
       "378        Denied  \n",
       "832     Certified  \n",
       "2918    Certified  \n",
       "6439       Denied  \n",
       "6634       Denied  \n",
       "7224    Certified  \n",
       "7281       Denied  \n",
       "7318    Certified  \n",
       "7761    Certified  \n",
       "9872    Certified  \n",
       "11493      Denied  \n",
       "13471      Denied  \n",
       "14022   Certified  \n",
       "14146   Certified  \n",
       "14726   Certified  \n",
       "15600      Denied  \n",
       "15859      Denied  \n",
       "16157   Certified  \n",
       "16883      Denied  \n",
       "17006      Denied  \n",
       "17655      Denied  \n",
       "17844      Denied  \n",
       "17983      Denied  \n",
       "20815   Certified  \n",
       "20984   Certified  \n",
       "21255      Denied  \n",
       "21760   Certified  \n",
       "21944   Certified  \n",
       "22084      Denied  \n",
       "22388   Certified  \n",
       "23186   Certified  \n",
       "23476      Denied  "
      ]
     },
     "execution_count": 16,
     "metadata": {},
     "output_type": "execute_result"
    }
   ],
   "source": [
    "data[data[\"no_of_employees\"]<= 0]"
   ]
  },
  {
   "cell_type": "code",
   "execution_count": 17,
   "id": "314e035f",
   "metadata": {},
   "outputs": [
    {
     "data": {
      "text/plain": [
       "33"
      ]
     },
     "execution_count": 17,
     "metadata": {},
     "output_type": "execute_result"
    }
   ],
   "source": [
    "data[data[\"no_of_employees\"]<= 0].value_counts().sum()"
   ]
  },
  {
   "cell_type": "markdown",
   "id": "471fc4f8",
   "metadata": {},
   "source": [
    "* There are 33 cases that have negative numbers of employees. A company should have at least 1 employee therefore these values do not make sense. Since 30 cases is very small amount in this data set, we decide to remove them from the data set."
   ]
  },
  {
   "cell_type": "code",
   "execution_count": 18,
   "id": "49107142",
   "metadata": {},
   "outputs": [],
   "source": [
    "data.drop(data[data[\"no_of_employees\"]<= 0].index, inplace = True) # remove rows which have a negative number of employees"
   ]
  },
  {
   "cell_type": "markdown",
   "id": "67345d6d",
   "metadata": {},
   "source": [
    "### Year the employer's company was established"
   ]
  },
  {
   "cell_type": "code",
   "execution_count": 19,
   "id": "9ac6c22e",
   "metadata": {
    "scrolled": true
   },
   "outputs": [
    {
     "data": {
      "image/png": "[encoded data removed]",
      "text/plain": [
       "<Figure size 864x504 with 2 Axes>"
      ]
     },
     "metadata": {
      "needs_background": "light"
     },
     "output_type": "display_data"
    }
   ],
   "source": [
    "histogram_boxplot(data, \"yr_of_estab\")"
   ]
  },
  {
   "cell_type": "markdown",
   "id": "bff0a7e8",
   "metadata": {},
   "source": [
    "* The distribution of `yr_of_estab` is a highly left skewed with median close to the 21st century.  \n",
    "* A large range of outliers from 1800 to around 1940.\n",
    "* We will explore these data more in the bivariate analysis section"
   ]
  },
  {
   "cell_type": "code",
   "execution_count": 20,
   "id": "86bca3cf",
   "metadata": {},
   "outputs": [
    {
     "data": {
      "image/png": "[encoded data removed]",
      "text/plain": [
       "<Figure size 864x504 with 2 Axes>"
      ]
     },
     "metadata": {
      "needs_background": "light"
     },
     "output_type": "display_data"
    }
   ],
   "source": [
    "histogram_boxplot(data, \"prevailing_wage\")"
   ]
  },
  {
   "cell_type": "markdown",
   "id": "02ff4c8f",
   "metadata": {},
   "source": [
    "* The `prevailing_wage` distribution is skewed to right with a lot of outliers.\n",
    "* Mean, ~75000 dollars, is slightly higher than medien, ~70000 dollars. \n",
    "* There are very high counts of small `prevailing_wage`, assuming there are hourly rates or weekly rates.\n",
    "* We will assign any `prevailing_wage` value which is higher than 300,000 dollars to the upper whisker value."
   ]
  },
  {
   "cell_type": "code",
   "execution_count": 21,
   "id": "3361d9e0",
   "metadata": {},
   "outputs": [
    {
     "name": "stdout",
     "output_type": "stream",
     "text": [
      "Upper Whisker is 218289.9475 dollars.\n"
     ]
    }
   ],
   "source": [
    "# Calculating the 25th quantile\n",
    "Q1 = data[\"prevailing_wage\"].quantile(0.25)\n",
    "\n",
    "# Calculating the 75th quantile\n",
    "Q3 = data[\"prevailing_wage\"].quantile(0.75)\n",
    "\n",
    "# Calculating IQR\n",
    "IQR = Q3 - Q1\n",
    "\n",
    "# Calculating value of upper whisker\n",
    "Upper_Whisker = Q3 + 1.5 * IQR\n",
    "print(\"Upper Whisker is\", Upper_Whisker, \"dollars.\")"
   ]
  },
  {
   "cell_type": "code",
   "execution_count": 22,
   "id": "7a413d1b",
   "metadata": {},
   "outputs": [],
   "source": [
    "# assigning the outliers the value of upper whisker\n",
    "data.loc[data[\"prevailing_wage\"] >= 300000, \"prevailing_wage\"] = Upper_Whisker"
   ]
  },
  {
   "cell_type": "code",
   "execution_count": 23,
   "id": "71868dfc",
   "metadata": {},
   "outputs": [],
   "source": [
    "# function to create labeled barplots\n",
    "\n",
    "\n",
    "def labeled_barplot(data, feature, perc=False, n=None):\n",
    "    \"\"\"\n",
    "    Barplot with percentage at the top\n",
    "\n",
    "    data: dataframe\n",
    "    feature: dataframe column\n",
    "    perc: whether to display percentages instead of count (default is False)\n",
    "    n: displays the top n category levels (default is None, i.e., display all levels)\n",
    "    \"\"\"\n",
    "\n",
    "    total = len(data[feature])  # length of the column\n",
    "    count = data[feature].nunique()\n",
    "    if n is None:\n",
    "        plt.figure(figsize=(count + 1, 5))\n",
    "    else:\n",
    "        plt.figure(figsize=(n + 1, 5))\n",
    "\n",
    "    plt.xticks(rotation=90, fontsize=15)\n",
    "    ax = sns.countplot(\n",
    "        data=data,\n",
    "        x=feature,\n",
    "        palette=\"Paired\",\n",
    "        order=data[feature].value_counts().index[:n].sort_values(),\n",
    "    )\n",
    "\n",
    "    for p in ax.patches:\n",
    "        if perc == True:\n",
    "            label = \"{:.1f}%\".format(\n",
    "                100 * p.get_height() / total\n",
    "            )  # percentage of each class of the category\n",
    "        else:\n",
    "            label = p.get_height()  # count of each level of the category\n",
    "\n",
    "        x = p.get_x() + p.get_width() / 2  # width of the plot\n",
    "        y = p.get_height()  # height of the plot\n",
    "\n",
    "        ax.annotate(\n",
    "            label,\n",
    "            (x, y),\n",
    "            ha=\"center\",\n",
    "            va=\"center\",\n",
    "            size=12,\n",
    "            xytext=(0, 5),\n",
    "            textcoords=\"offset points\",\n",
    "        )  # annotate the percentage\n",
    "\n",
    "    plt.show()  # show the plot"
   ]
  },
  {
   "cell_type": "markdown",
   "id": "7930469b",
   "metadata": {},
   "source": [
    "### Continent"
   ]
  },
  {
   "cell_type": "code",
   "execution_count": 24,
   "id": "4735bcc0",
   "metadata": {},
   "outputs": [
    {
     "data": {
      "image/png": "[encoded data removed]",
      "text/plain": [
       "<Figure size 504x360 with 1 Axes>"
      ]
     },
     "metadata": {
      "needs_background": "light"
     },
     "output_type": "display_data"
    }
   ],
   "source": [
    "labeled_barplot(data, \"continent\",perc=True)"
   ]
  },
  {
   "cell_type": "markdown",
   "id": "6d8c4f2c",
   "metadata": {},
   "source": [
    "* 66% of application were from Asia. \n",
    "* Followed by Europe 14.6% abd North America 12.9%.\n",
    "* Oceania has the least application, 0.8%"
   ]
  },
  {
   "cell_type": "markdown",
   "id": "98f970b5",
   "metadata": {},
   "source": [
    "### Employee Education"
   ]
  },
  {
   "cell_type": "code",
   "execution_count": 25,
   "id": "a09c80b0",
   "metadata": {},
   "outputs": [
    {
     "data": {
      "image/png": "[encoded data removed]",
      "text/plain": [
       "<Figure size 360x360 with 1 Axes>"
      ]
     },
     "metadata": {
      "needs_background": "light"
     },
     "output_type": "display_data"
    }
   ],
   "source": [
    "labeled_barplot(data, \"education_of_employee\",perc=True)"
   ]
  },
  {
   "cell_type": "markdown",
   "id": "8dfc58c7",
   "metadata": {},
   "source": [
    "* Most of applications are Bechelor's degree, 40.2%, and Master's, 37.8%.\n",
    "* Higher school, 13.4%, and Doctorate degree, the least, 8.6%\n",
    "* Most employees have need for candicates who have at least Bachelor's degree."
   ]
  },
  {
   "cell_type": "markdown",
   "id": "3c9f635b",
   "metadata": {},
   "source": [
    "### Job Experience"
   ]
  },
  {
   "cell_type": "code",
   "execution_count": 26,
   "id": "f795b1cf",
   "metadata": {},
   "outputs": [
    {
     "data": {
      "image/png": "[encoded data removed]",
      "text/plain": [
       "<Figure size 216x360 with 1 Axes>"
      ]
     },
     "metadata": {
      "needs_background": "light"
     },
     "output_type": "display_data"
    }
   ],
   "source": [
    "labeled_barplot(data, \"has_job_experience\",perc=True)"
   ]
  },
  {
   "cell_type": "markdown",
   "id": "fffab2c8",
   "metadata": {},
   "source": [
    "* More than half of empolyeers prefers candicates who have work experience, 58.1%.\n",
    "* However, there is 41.9% of positions which do not require work experience."
   ]
  },
  {
   "cell_type": "markdown",
   "id": "616df739",
   "metadata": {},
   "source": [
    "### Job Training Requirement "
   ]
  },
  {
   "cell_type": "code",
   "execution_count": 27,
   "id": "d7c761a5",
   "metadata": {},
   "outputs": [
    {
     "data": {
      "image/png": "[encoded data removed]",
      "text/plain": [
       "<Figure size 216x360 with 1 Axes>"
      ]
     },
     "metadata": {
      "needs_background": "light"
     },
     "output_type": "display_data"
    }
   ],
   "source": [
    "labeled_barplot(data, \"requires_job_training\",perc=True)"
   ]
  },
  {
   "cell_type": "markdown",
   "id": "c38a0780",
   "metadata": {},
   "source": [
    "* 88.4% of positions does not require job training but only 11.6% does."
   ]
  },
  {
   "cell_type": "markdown",
   "id": "7f9f79f9",
   "metadata": {},
   "source": [
    "### Region of Employment"
   ]
  },
  {
   "cell_type": "code",
   "execution_count": 28,
   "id": "7fe7ee43",
   "metadata": {},
   "outputs": [
    {
     "data": {
      "image/png": "[encoded data removed]",
      "text/plain": [
       "<Figure size 432x360 with 1 Axes>"
      ]
     },
     "metadata": {
      "needs_background": "light"
     },
     "output_type": "display_data"
    }
   ],
   "source": [
    "labeled_barplot(data, \"region_of_employment\",perc=True)"
   ]
  },
  {
   "cell_type": "markdown",
   "id": "a37b56b4",
   "metadata": {},
   "source": [
    "* From 5 regions, the top 3 reqion of employment were quite close. First is Northeast 28.2%, secound South, 27.5%, and West 25.8%\n",
    "* Midwest is 16.9% and Island is 1.5%.\n",
    "* Northeast, South, and West have great number of immigrations in general."
   ]
  },
  {
   "cell_type": "markdown",
   "id": "56f0b26b",
   "metadata": {},
   "source": [
    "### Unit Of Wage"
   ]
  },
  {
   "cell_type": "code",
   "execution_count": 29,
   "id": "767ff0c9",
   "metadata": {},
   "outputs": [
    {
     "data": {
      "image/png": "[encoded data removed]",
      "text/plain": [
       "<Figure size 360x360 with 1 Axes>"
      ]
     },
     "metadata": {
      "needs_background": "light"
     },
     "output_type": "display_data"
    }
   ],
   "source": [
    "labeled_barplot(data, \"unit_of_wage\",perc=True)"
   ]
  },
  {
   "cell_type": "markdown",
   "id": "d7ee05c2",
   "metadata": {},
   "source": [
    "* Most of positions/applications, 90.1%, were paid annually. \n",
    "* Hourly rate is 8.5%, Monthly 0.3%, and Weekly 1.1%."
   ]
  },
  {
   "cell_type": "markdown",
   "id": "19086ade",
   "metadata": {},
   "source": [
    "### Full Time Position"
   ]
  },
  {
   "cell_type": "code",
   "execution_count": 30,
   "id": "163aaaa0",
   "metadata": {},
   "outputs": [
    {
     "data": {
      "image/png": "[encoded data removed]",
      "text/plain": [
       "<Figure size 216x360 with 1 Axes>"
      ]
     },
     "metadata": {
      "needs_background": "light"
     },
     "output_type": "display_data"
    }
   ],
   "source": [
    "labeled_barplot(data, \"full_time_position\",perc=True)"
   ]
  },
  {
   "cell_type": "markdown",
   "id": "a31122d7",
   "metadata": {},
   "source": [
    "* Most of the appllications, 89.4%, were full-time positions."
   ]
  },
  {
   "cell_type": "markdown",
   "id": "ba8a3a9e",
   "metadata": {},
   "source": [
    "### Case Status"
   ]
  },
  {
   "cell_type": "code",
   "execution_count": 31,
   "id": "3166168e",
   "metadata": {},
   "outputs": [
    {
     "data": {
      "image/png": "[encoded data removed]",
      "text/plain": [
       "<Figure size 216x360 with 1 Axes>"
      ]
     },
     "metadata": {
      "needs_background": "light"
     },
     "output_type": "display_data"
    }
   ],
   "source": [
    "labeled_barplot(data, \"case_status\",perc=True)"
   ]
  },
  {
   "cell_type": "markdown",
   "id": "712c31c7",
   "metadata": {},
   "source": [
    "* 66.8% of the visa applications were certified and 33.2% were denied."
   ]
  },
  {
   "cell_type": "markdown",
   "id": "5f3cf802",
   "metadata": {},
   "source": [
    "### Bivariate analysis"
   ]
  },
  {
   "cell_type": "code",
   "execution_count": 32,
   "id": "e2868024",
   "metadata": {},
   "outputs": [],
   "source": [
    "### function to plot distributions wrt target\n",
    "\n",
    "\n",
    "def distribution_plot_wrt_target(data, predictor, target):\n",
    "\n",
    "    fig, axs = plt.subplots(2, 2, figsize=(12, 10))\n",
    "\n",
    "    target_uniq = data[target].unique()\n",
    "\n",
    "    axs[0, 0].set_title(\"Distribution of target for target=\" + str(target_uniq[0]))\n",
    "    sns.histplot(\n",
    "        data=data[data[target] == target_uniq[0]],\n",
    "        x=predictor,\n",
    "        kde=True,\n",
    "        ax=axs[0, 0],\n",
    "        color=\"teal\",\n",
    "        stat=\"density\",\n",
    "    )\n",
    "\n",
    "    axs[0, 1].set_title(\"Distribution of target for target=\" + str(target_uniq[1]))\n",
    "    sns.histplot(\n",
    "        data=data[data[target] == target_uniq[1]],\n",
    "        x=predictor,\n",
    "        kde=True,\n",
    "        ax=axs[0, 1],\n",
    "        color=\"orange\",\n",
    "        stat=\"density\",\n",
    "    )\n",
    "\n",
    "    axs[1, 0].set_title(\"Boxplot w.r.t target\")\n",
    "    sns.boxplot(data=data, x=target, y=predictor, ax=axs[1, 0], palette=\"gist_rainbow\")\n",
    "\n",
    "    axs[1, 1].set_title(\"Boxplot (without outliers) w.r.t target\")\n",
    "    sns.boxplot(\n",
    "        data=data,\n",
    "        x=target,\n",
    "        y=predictor,\n",
    "        ax=axs[1, 1],\n",
    "        showfliers=False,\n",
    "        palette=\"gist_rainbow\",\n",
    "    )\n",
    "\n",
    "    plt.tight_layout()\n",
    "    plt.show()"
   ]
  },
  {
   "cell_type": "code",
   "execution_count": 33,
   "id": "5dd6bdae",
   "metadata": {},
   "outputs": [],
   "source": [
    "def stacked_barplot(data, predictor, target):\n",
    "    \"\"\"\n",
    "    Print the category counts and plot a stacked bar chart\n",
    "\n",
    "    data: dataframe\n",
    "    predictor: independent variable\n",
    "    target: target variable\n",
    "    \"\"\"\n",
    "    count = data[predictor].nunique()\n",
    "    sorter = data[target].value_counts().index[-1]\n",
    "    tab1 = pd.crosstab(data[predictor], data[target], margins=True).sort_values(\n",
    "        by=sorter, ascending=False\n",
    "    )\n",
    "    print(tab1)\n",
    "    print(\"-\" * 120)\n",
    "    tab = pd.crosstab(data[predictor], data[target], normalize=\"index\").sort_values(\n",
    "        by=sorter, ascending=False\n",
    "    )\n",
    "    tab.plot(kind=\"bar\", stacked=True, figsize=(count + 5, 5))\n",
    "    plt.legend(\n",
    "        loc=\"lower left\", frameon=False,\n",
    "    )\n",
    "    plt.legend(loc=\"upper left\", bbox_to_anchor=(1, 1))\n",
    "    plt.show()"
   ]
  },
  {
   "cell_type": "markdown",
   "id": "classified-traveler",
   "metadata": {
    "id": "classified-traveler"
   },
   "source": [
    "**Leading Questions**:\n",
    "1. Those with higher education may want to travel abroad for a well-paid job. Does education play a role in Visa certification? \n",
    "\n",
    "2. How does the visa status vary across different continents? \n",
    " \n",
    "3. Experienced professionals might look abroad for opportunities to improve their lifestyles and career development. Does work experience influence visa status? \n",
    " \n",
    "4. In the United States, employees are paid at different intervals. Which pay unit is most likely to be certified for a visa? \n",
    " \n",
    "5. The US government has established a prevailing wage to protect local talent and foreign workers. How does the visa status change with the prevailing wage?"
   ]
  },
  {
   "cell_type": "markdown",
   "id": "d1a619e5",
   "metadata": {},
   "source": [
    "### Case Status and Education"
   ]
  },
  {
   "cell_type": "markdown",
   "id": "aa5c09d8",
   "metadata": {},
   "source": [
    "#### 1. Those with higher education may want to travel abroad for a well-paid job. Does education play a role in Visa certification? "
   ]
  },
  {
   "cell_type": "code",
   "execution_count": 34,
   "id": "8606b780",
   "metadata": {
    "scrolled": true
   },
   "outputs": [
    {
     "name": "stdout",
     "output_type": "stream",
     "text": [
      "case_status            Certified  Denied    All\n",
      "education_of_employee                          \n",
      "All                        17001    8446  25447\n",
      "Bachelor's                  6362    3858  10220\n",
      "High School                 1164    2252   3416\n",
      "Master's                    7565    2057   9622\n",
      "Doctorate                   1910     279   2189\n",
      "------------------------------------------------------------------------------------------------------------------------\n"
     ]
    },
    {
     "data": {
      "image/png": "[encoded data removed]",
      "text/plain": [
       "<Figure size 648x360 with 1 Axes>"
      ]
     },
     "metadata": {
      "needs_background": "light"
     },
     "output_type": "display_data"
    }
   ],
   "source": [
    "stacked_barplot(data, \"education_of_employee\", \"case_status\")"
   ]
  },
  {
   "cell_type": "markdown",
   "id": "36f3a84e",
   "metadata": {},
   "source": [
    "* Master's degree has the highest certified numbers, over 7565 cases, followed by Bachelor's, over 6362 cases, Doctorate 1910 case, and High School 1164 cases.\n",
    "* Doctorate has the highest approval rate at ~90%, followed by Master's ~80%, Bachelor's over 60%, and High School over 30%.\n",
    "* Doctorate has the highest certified rate while Bachelor's has the hgihest certified cases.\n",
    "* High School has the lowest certified rate and the lowest approve number of cases."
   ]
  },
  {
   "cell_type": "markdown",
   "id": "6551b6d9",
   "metadata": {},
   "source": [
    "### Case Status and Continents"
   ]
  },
  {
   "cell_type": "markdown",
   "id": "15ee3490",
   "metadata": {},
   "source": [
    "#### 2. How does the visa status vary across different continents? "
   ]
  },
  {
   "cell_type": "code",
   "execution_count": 35,
   "id": "9b7a71f8",
   "metadata": {},
   "outputs": [
    {
     "name": "stdout",
     "output_type": "stream",
     "text": [
      "case_status    Certified  Denied    All\n",
      "continent                              \n",
      "All                17001    8446  25447\n",
      "Asia               11001    5839  16840\n",
      "North America       2037    1250   3287\n",
      "Europe              2953     774   3727\n",
      "South America        492     359    851\n",
      "Africa               396     154    550\n",
      "Oceania              122      70    192\n",
      "------------------------------------------------------------------------------------------------------------------------\n"
     ]
    },
    {
     "data": {
      "image/png": "[encoded data removed]",
      "text/plain": [
       "<Figure size 792x360 with 1 Axes>"
      ]
     },
     "metadata": {
      "needs_background": "light"
     },
     "output_type": "display_data"
    }
   ],
   "source": [
    "stacked_barplot(data, \"continent\", \"case_status\")"
   ]
  },
  {
   "cell_type": "markdown",
   "id": "0e0b82e3",
   "metadata": {},
   "source": [
    "* All continents have a higher number of Certified cases than Denied cases.\n",
    "* Asia has the highest certified cases at 11001 cases, followed by Europe 2953 cases, North America 2037 cases, South America 492 cases, Africa 396 cases, and Oceania 122 cases.\n",
    "* Europ has the highest approval rate ~80%, followed by Africa over 70%, Asia ~65%, Oceania ~63%, North America ~62%, and Sounth America less than 60%.\n",
    "* Asia has the highest certified cases while Europe has the highest certified rate."
   ]
  },
  {
   "cell_type": "markdown",
   "id": "d4fe2849",
   "metadata": {},
   "source": [
    "### Case Status and Region of Employment"
   ]
  },
  {
   "cell_type": "code",
   "execution_count": 36,
   "id": "fb4c2db9",
   "metadata": {},
   "outputs": [
    {
     "name": "stdout",
     "output_type": "stream",
     "text": [
      "case_status           Certified  Denied    All\n",
      "region_of_employment                          \n",
      "All                       17001    8446  25447\n",
      "Northeast                  4524    2665   7189\n",
      "West                       4097    2481   6578\n",
      "South                      4908    2098   7006\n",
      "Midwest                    3246    1053   4299\n",
      "Island                      226     149    375\n",
      "------------------------------------------------------------------------------------------------------------------------\n"
     ]
    },
    {
     "data": {
      "image/png": "[encoded data removed]",
      "text/plain": [
       "<Figure size 720x360 with 1 Axes>"
      ]
     },
     "metadata": {
      "needs_background": "light"
     },
     "output_type": "display_data"
    }
   ],
   "source": [
    "stacked_barplot(data, \"region_of_employment\", \"case_status\")"
   ]
  },
  {
   "cell_type": "markdown",
   "id": "111de92c",
   "metadata": {},
   "source": [
    "* Observation"
   ]
  },
  {
   "cell_type": "markdown",
   "id": "03a2e083",
   "metadata": {},
   "source": [
    "### Case Status and Work Experience"
   ]
  },
  {
   "cell_type": "markdown",
   "id": "85ea0077",
   "metadata": {},
   "source": [
    "#### 3. Experienced professionals might look abroad for opportunities to improve their lifestyles and career development. Does work experience influence visa status? "
   ]
  },
  {
   "cell_type": "code",
   "execution_count": 37,
   "id": "a3313765",
   "metadata": {
    "scrolled": true
   },
   "outputs": [
    {
     "name": "stdout",
     "output_type": "stream",
     "text": [
      "case_status         Certified  Denied    All\n",
      "has_job_experience                          \n",
      "All                     17001    8446  25447\n",
      "N                        5986    4675  10661\n",
      "Y                       11015    3771  14786\n",
      "------------------------------------------------------------------------------------------------------------------------\n"
     ]
    },
    {
     "data": {
      "image/png": "[encoded data removed]",
      "text/plain": [
       "<Figure size 504x360 with 1 Axes>"
      ]
     },
     "metadata": {
      "needs_background": "light"
     },
     "output_type": "display_data"
    }
   ],
   "source": [
    "stacked_barplot(data, \"has_job_experience\", \"case_status\")"
   ]
  },
  {
   "cell_type": "markdown",
   "id": "379cb63f",
   "metadata": {},
   "source": [
    "* Applications with work experience were certified 11015 case or over 70% while applications with no working experience were certified 5986 cases or ~55%."
   ]
  },
  {
   "cell_type": "markdown",
   "id": "4d66ae3d",
   "metadata": {},
   "source": [
    "### Case Status and Employment Paid Intervals"
   ]
  },
  {
   "cell_type": "markdown",
   "id": "83aaa7f7",
   "metadata": {},
   "source": [
    "#### 4. In the United States, employees are paid at different intervals. Which pay unit is most likely to be certified for a visa?"
   ]
  },
  {
   "cell_type": "code",
   "execution_count": 38,
   "id": "fbb04473",
   "metadata": {},
   "outputs": [
    {
     "name": "stdout",
     "output_type": "stream",
     "text": [
      "case_status   Certified  Denied    All\n",
      "unit_of_wage                          \n",
      "All               17001    8446  25447\n",
      "Year              16030    6903  22933\n",
      "Hour                747    1406   2153\n",
      "Week                169     103    272\n",
      "Month                55      34     89\n",
      "------------------------------------------------------------------------------------------------------------------------\n"
     ]
    },
    {
     "data": {
      "image/png": "[encoded data removed]",
      "text/plain": [
       "<Figure size 648x360 with 1 Axes>"
      ]
     },
     "metadata": {
      "needs_background": "light"
     },
     "output_type": "display_data"
    }
   ],
   "source": [
    "stacked_barplot(data, \"unit_of_wage\", \"case_status\")"
   ]
  },
  {
   "cell_type": "markdown",
   "id": "aeb44f44",
   "metadata": {},
   "source": [
    "* The cases which has Annually employment paid interval have the highest certified cases at 16030 or ~70% approval rate.\n",
    "* Weely paid interval and Monthly pain interval have over 60% approval rate.\n",
    "* Hourly has the least approval rate ~35%."
   ]
  },
  {
   "cell_type": "markdown",
   "id": "0f399c36",
   "metadata": {},
   "source": [
    "### Case Status and Prevailing Wage"
   ]
  },
  {
   "cell_type": "markdown",
   "id": "3584454d",
   "metadata": {
    "id": "mechanical-interference"
   },
   "source": [
    "#### 5. The US government has established a prevailing wage to protect local talent and foreign workers. How does the visa status change with the prevailing wage?"
   ]
  },
  {
   "cell_type": "code",
   "execution_count": 39,
   "id": "852e4d1c",
   "metadata": {
    "scrolled": true
   },
   "outputs": [
    {
     "data": {
      "image/png": "[encoded data removed]",
      "text/plain": [
       "<Figure size 864x720 with 4 Axes>"
      ]
     },
     "metadata": {
      "needs_background": "light"
     },
     "output_type": "display_data"
    }
   ],
   "source": [
    "distribution_plot_wrt_target(data, \"prevailing_wage\", \"case_status\")"
   ]
  },
  {
   "cell_type": "markdown",
   "id": "9ad19a7f",
   "metadata": {},
   "source": [
    "* Observation"
   ]
  },
  {
   "cell_type": "markdown",
   "id": "47a897ff",
   "metadata": {},
   "source": [
    "### Case Status and Full-Time Employment"
   ]
  },
  {
   "cell_type": "code",
   "execution_count": 40,
   "id": "be454cc3",
   "metadata": {},
   "outputs": [
    {
     "name": "stdout",
     "output_type": "stream",
     "text": [
      "case_status         Certified  Denied    All\n",
      "full_time_position                          \n",
      "All                     17001    8446  25447\n",
      "Y                       15146    7595  22741\n",
      "N                        1855     851   2706\n",
      "------------------------------------------------------------------------------------------------------------------------\n"
     ]
    },
    {
     "data": {
      "image/png": "[encoded data removed]",
      "text/plain": [
       "<Figure size 504x360 with 1 Axes>"
      ]
     },
     "metadata": {
      "needs_background": "light"
     },
     "output_type": "display_data"
    }
   ],
   "source": [
    "stacked_barplot(data, \"full_time_position\", \"case_status\")"
   ]
  },
  {
   "cell_type": "markdown",
   "id": "b07b4ea9",
   "metadata": {},
   "source": [
    "* Observation"
   ]
  },
  {
   "cell_type": "markdown",
   "id": "89e5881a",
   "metadata": {},
   "source": [
    "### Case Status and Job Training "
   ]
  },
  {
   "cell_type": "code",
   "execution_count": 41,
   "id": "a4fd017a",
   "metadata": {},
   "outputs": [
    {
     "name": "stdout",
     "output_type": "stream",
     "text": [
      "case_status            Certified  Denied    All\n",
      "requires_job_training                          \n",
      "All                        17001    8446  25447\n",
      "N                          15000    7498  22498\n",
      "Y                           2001     948   2949\n",
      "------------------------------------------------------------------------------------------------------------------------\n"
     ]
    },
    {
     "data": {
      "image/png": "[encoded data removed]",
      "text/plain": [
       "<Figure size 504x360 with 1 Axes>"
      ]
     },
     "metadata": {
      "needs_background": "light"
     },
     "output_type": "display_data"
    }
   ],
   "source": [
    "stacked_barplot(data, \"requires_job_training\", \"case_status\")"
   ]
  },
  {
   "cell_type": "markdown",
   "id": "d4f86831",
   "metadata": {},
   "source": [
    "* Observation"
   ]
  },
  {
   "cell_type": "markdown",
   "id": "6aab39df",
   "metadata": {},
   "source": [
    "### Case Status and Year of Employeer's was Established"
   ]
  },
  {
   "cell_type": "code",
   "execution_count": 42,
   "id": "6a5957b0",
   "metadata": {},
   "outputs": [
    {
     "data": {
      "image/png": "[encoded data removed]",
      "text/plain": [
       "<Figure size 864x720 with 4 Axes>"
      ]
     },
     "metadata": {
      "needs_background": "light"
     },
     "output_type": "display_data"
    }
   ],
   "source": [
    "distribution_plot_wrt_target(data, \"yr_of_estab\", \"case_status\")"
   ]
  },
  {
   "cell_type": "markdown",
   "id": "190fb636",
   "metadata": {},
   "source": [
    "* Observation"
   ]
  },
  {
   "cell_type": "code",
   "execution_count": 43,
   "id": "fdb2cfe4",
   "metadata": {
    "scrolled": true
   },
   "outputs": [
    {
     "data": {
      "image/png": "[encoded data removed]",
      "text/plain": [
       "<Figure size 720x504 with 1 Axes>"
      ]
     },
     "metadata": {},
     "output_type": "display_data"
    }
   ],
   "source": [
    "sns.set(rc={'figure.figsize':(10,7)})\n",
    "sns.pointplot(data = data, x = 'unit_of_wage', y = 'prevailing_wage', hue = 'case_status');"
   ]
  },
  {
   "cell_type": "markdown",
   "id": "838e5260",
   "metadata": {},
   "source": [
    "* Case statuses as certified and as denied have very similar prevalling wages in hourly wage, monthly wage, weekly rage and annully rate. \n",
    "* However, the denied case with monthly paid group has a larger range of prevaling wage than other group. "
   ]
  },
  {
   "cell_type": "code",
   "execution_count": 44,
   "id": "9c2c1bed",
   "metadata": {},
   "outputs": [
    {
     "data": {
      "image/png": "[encoded data removed]",
      "text/plain": [
       "<Figure size 720x504 with 1 Axes>"
      ]
     },
     "metadata": {},
     "output_type": "display_data"
    }
   ],
   "source": [
    "sns.set(rc={'figure.figsize':(10,7)})\n",
    "sns.boxplot(data = data, x = 'unit_of_wage', y = 'prevailing_wage', hue = 'case_status');"
   ]
  },
  {
   "cell_type": "markdown",
   "id": "c7eff53e",
   "metadata": {},
   "source": [
    "* Observation"
   ]
  },
  {
   "cell_type": "markdown",
   "id": "d16e08b5",
   "metadata": {},
   "source": [
    "### Continent and Prevailing Wage"
   ]
  },
  {
   "cell_type": "code",
   "execution_count": 45,
   "id": "d97f0bf2",
   "metadata": {},
   "outputs": [
    {
     "data": {
      "image/png": "[encoded data removed]",
      "text/plain": [
       "<Figure size 720x504 with 1 Axes>"
      ]
     },
     "metadata": {},
     "output_type": "display_data"
    }
   ],
   "source": [
    "sns.set(rc={'figure.figsize':(10,7)})\n",
    "sns.pointplot(data = data, x = 'continent', y = 'prevailing_wage', hue = 'case_status');"
   ]
  },
  {
   "cell_type": "code",
   "execution_count": 46,
   "id": "454bba81",
   "metadata": {},
   "outputs": [
    {
     "data": {
      "image/png": "[encoded data removed]",
      "text/plain": [
       "<Figure size 720x504 with 1 Axes>"
      ]
     },
     "metadata": {},
     "output_type": "display_data"
    }
   ],
   "source": [
    "sns.set(rc={'figure.figsize':(10,7)})\n",
    "sns.boxplot(data = data, x = 'continent', y = 'prevailing_wage', hue = 'case_status');"
   ]
  },
  {
   "cell_type": "markdown",
   "id": "6a127b2a",
   "metadata": {},
   "source": [
    "### Work Experience and Prevailing Wage"
   ]
  },
  {
   "cell_type": "code",
   "execution_count": 47,
   "id": "1597db62",
   "metadata": {},
   "outputs": [
    {
     "data": {
      "image/png": "[encoded data removed]",
      "text/plain": [
       "<Figure size 720x504 with 1 Axes>"
      ]
     },
     "metadata": {},
     "output_type": "display_data"
    }
   ],
   "source": [
    "sns.set(rc={'figure.figsize':(10,7)})\n",
    "sns.boxplot(data = data, x = 'has_job_experience', y = 'prevailing_wage', hue = 'case_status');"
   ]
  },
  {
   "cell_type": "markdown",
   "id": "21bd4270",
   "metadata": {},
   "source": [
    "* Observation"
   ]
  },
  {
   "cell_type": "markdown",
   "id": "a30a622d",
   "metadata": {},
   "source": [
    "### Training and Prevailing Wage"
   ]
  },
  {
   "cell_type": "code",
   "execution_count": 48,
   "id": "674a2d2d",
   "metadata": {},
   "outputs": [
    {
     "data": {
      "image/png": "[encoded data removed]",
      "text/plain": [
       "<Figure size 720x504 with 1 Axes>"
      ]
     },
     "metadata": {},
     "output_type": "display_data"
    }
   ],
   "source": [
    "sns.set(rc={'figure.figsize':(10,7)})\n",
    "sns.boxplot(data = data, x = 'requires_job_training', y = 'prevailing_wage', hue = 'case_status');"
   ]
  },
  {
   "cell_type": "markdown",
   "id": "8054d9c1",
   "metadata": {},
   "source": [
    "* Observation"
   ]
  },
  {
   "cell_type": "markdown",
   "id": "d625b5e7",
   "metadata": {},
   "source": [
    "### Case Status, Number of Employees, and Employment Paid Interval"
   ]
  },
  {
   "cell_type": "code",
   "execution_count": null,
   "id": "774639b2",
   "metadata": {
    "scrolled": true
   },
   "outputs": [],
   "source": [
    "sns.set(rc={'figure.figsize':(10,7)})\n",
    "sns.barplot(data = data, x = 'unit_of_wage', y = 'no_of_employees', hue = 'case_status');"
   ]
  },
  {
   "cell_type": "markdown",
   "id": "480faa8b",
   "metadata": {},
   "source": [
    "* For Weekly paid interval, \n",
    "* For Annually paid interval, "
   ]
  },
  {
   "cell_type": "markdown",
   "id": "ba017805",
   "metadata": {},
   "source": [
    "### Case Status and Number of Employees"
   ]
  },
  {
   "cell_type": "code",
   "execution_count": null,
   "id": "03c20e06",
   "metadata": {},
   "outputs": [],
   "source": [
    "distribution_plot_wrt_target(data, \"no_of_employees\", \"case_status\")"
   ]
  },
  {
   "cell_type": "markdown",
   "id": "7989d484",
   "metadata": {},
   "source": [
    "* Observation"
   ]
  },
  {
   "cell_type": "markdown",
   "id": "959f476b",
   "metadata": {},
   "source": [
    "### Case Status and Year of Establishment "
   ]
  },
  {
   "cell_type": "markdown",
   "id": "1ef3eba1",
   "metadata": {},
   "source": [
    "### Binning"
   ]
  },
  {
   "cell_type": "code",
   "execution_count": null,
   "id": "7a58a10d",
   "metadata": {},
   "outputs": [],
   "source": [
    "print(\"Employers' year of establish is range from\", data.yr_of_estab.min(), \"to\", data.yr_of_estab.max(),\".\")"
   ]
  },
  {
   "cell_type": "code",
   "execution_count": null,
   "id": "12cdfd3c",
   "metadata": {
    "scrolled": true
   },
   "outputs": [],
   "source": [
    "# binning\n",
    "binned_year = pd.cut(data[\"yr_of_estab\"], [1800, 1850, 1900, 1950, 2000, 2050])\n",
    "binned_year.head()  # to return first 5 rows"
   ]
  },
  {
   "cell_type": "code",
   "execution_count": null,
   "id": "6518340c",
   "metadata": {},
   "outputs": [],
   "source": [
    "# to return number of units per each catergory\n",
    "binned_year.value_counts()"
   ]
  },
  {
   "cell_type": "code",
   "execution_count": null,
   "id": "1c723744",
   "metadata": {},
   "outputs": [],
   "source": [
    "# add custom labels and categorize establish year into 5 catergories\n",
    "data[\"yr_of_estab_bin\"] = pd.cut(\n",
    "    data[\"yr_of_estab\"],\n",
    "    [1800, 1850, 1900, 1950, 2000, 2050],\n",
    "    labels=[\"1800-1850\", \"1851-1900\", \"1901-1950\", \"1951-2000\", \"2001+\"],\n",
    ")"
   ]
  },
  {
   "cell_type": "code",
   "execution_count": null,
   "id": "1fb27df9",
   "metadata": {},
   "outputs": [],
   "source": [
    "stacked_barplot(data, \"yr_of_estab_bin\", \"case_status\")"
   ]
  },
  {
   "cell_type": "markdown",
   "id": "f3ddcd2a",
   "metadata": {},
   "source": [
    "* Observation"
   ]
  },
  {
   "cell_type": "code",
   "execution_count": null,
   "id": "970018b1",
   "metadata": {
    "scrolled": true
   },
   "outputs": [],
   "source": [
    "sns.set(rc={'figure.figsize':(10,7)})\n",
    "sns.pointplot(data = data, x = 'yr_of_estab_bin', y = 'prevailing_wage', hue = 'case_status');"
   ]
  },
  {
   "cell_type": "markdown",
   "id": "266fbcf4",
   "metadata": {},
   "source": [
    "* Observation"
   ]
  },
  {
   "cell_type": "markdown",
   "id": "393fca21",
   "metadata": {},
   "source": [
    "#### Let's encode visa to be certified as 1 and denied as 0 for further analysis"
   ]
  },
  {
   "cell_type": "code",
   "execution_count": null,
   "id": "increasing-louisiana",
   "metadata": {
    "id": "increasing-louisiana"
   },
   "outputs": [],
   "source": [
    "data[\"case_status\"] = data[\"case_status\"].apply(\n",
    "    lambda x: 1 if x == \"Denied\" else 0\n",
    ") #to classify 'Certified' as 0 and 'Denied' as 1. "
   ]
  },
  {
   "cell_type": "code",
   "execution_count": null,
   "id": "d99cf12c",
   "metadata": {},
   "outputs": [],
   "source": [
    "# to change Dtyoe of `case_status` to int\n",
    "data['case_status'] = data['case_status'].astype(int)"
   ]
  },
  {
   "cell_type": "code",
   "execution_count": null,
   "id": "0234db80",
   "metadata": {},
   "outputs": [],
   "source": [
    "data.info() # to check dtype"
   ]
  },
  {
   "cell_type": "code",
   "execution_count": null,
   "id": "1cfb6b17",
   "metadata": {},
   "outputs": [],
   "source": [
    "data.case_status.value_counts() # to return how many cases were certified and were denide."
   ]
  },
  {
   "cell_type": "code",
   "execution_count": null,
   "id": "38b8baf7",
   "metadata": {
    "scrolled": true
   },
   "outputs": [],
   "source": [
    "# to create a data set that only has number (int or float) as Dtype\n",
    "cols_list = data.select_dtypes(include=np.number).columns.tolist()\n",
    "\n",
    "plt.figure(figsize=(12, 7)) #to return heatmap graph from the cols_list data set \n",
    "sns.heatmap(\n",
    "    data[cols_list].corr(), annot=True, vmin=-1, vmax=1, fmt=\".2f\", cmap=\"Spectral\"\n",
    ")\n",
    "plt.show()"
   ]
  },
  {
   "cell_type": "markdown",
   "id": "79f1dc54",
   "metadata": {},
   "source": [
    "* Observation"
   ]
  },
  {
   "cell_type": "code",
   "execution_count": null,
   "id": "556f9cd4",
   "metadata": {},
   "outputs": [],
   "source": [
    "sns.pairplot(data=data, hue=\"case_status\")"
   ]
  },
  {
   "cell_type": "markdown",
   "id": "12231c79",
   "metadata": {},
   "source": [
    "* Observation"
   ]
  },
  {
   "cell_type": "markdown",
   "id": "cfff0122",
   "metadata": {},
   "source": [
    "## Insight of EDA"
   ]
  },
  {
   "cell_type": "markdown",
   "id": "4071dc7c",
   "metadata": {},
   "source": [
    "* a\n",
    "* b\n",
    "* c"
   ]
  },
  {
   "cell_type": "markdown",
   "id": "domestic-iceland",
   "metadata": {
    "id": "domestic-iceland"
   },
   "source": [
    "## Building bagging and boosting models"
   ]
  },
  {
   "cell_type": "markdown",
   "id": "d840b796",
   "metadata": {},
   "source": [
    "## Model Building - Approach\n",
    "1. Data preparation\n",
    "2. Split the data into the train and test set.\n",
    "3. Train models on the training data.\n",
    "4. Try to improve the model performance using hyperparameter tuning.\n",
    "5. Test the performance on the test data."
   ]
  },
  {
   "cell_type": "markdown",
   "id": "1ea71507",
   "metadata": {},
   "source": [
    "## Split Data"
   ]
  },
  {
   "cell_type": "code",
   "execution_count": null,
   "id": "446e01ae",
   "metadata": {},
   "outputs": [],
   "source": [
    "data.drop('yr_of_estab', axis=1, inplace=True) #to drop yr_of_estab column. We will only use 'yr_of_estab_bin'.\n",
    "X = data.drop('case_status', axis=1) #to drop 'case_status' from X\n",
    "Y = data['case_status']\n",
    "\n",
    "X = pd.get_dummies(X, drop_first=True)\n",
    "\n",
    "# Splitting data in train and test sets\n",
    "X_train, X_test, y_train, y_test = train_test_split(\n",
    "    X, Y, test_size=0.30, random_state=1\n",
    ")"
   ]
  },
  {
   "cell_type": "code",
   "execution_count": null,
   "id": "1961dcac",
   "metadata": {},
   "outputs": [],
   "source": [
    "print(\"Shape of Training set : \", X_train.shape)\n",
    "print(\"Shape of test set : \", X_test.shape)\n",
    "print(\"Percentage of classes in training set:\")\n",
    "print(y_train.value_counts(normalize=True))\n",
    "print(\"Percentage of classes in test set:\")\n",
    "print(y_test.value_counts(normalize=True))"
   ]
  },
  {
   "cell_type": "markdown",
   "id": "3a94626e",
   "metadata": {
    "id": "unknown-institution"
   },
   "source": [
    "## Model evaluation criterion\n",
    "\n",
    "### The model can make wrong predictions as:\n",
    "1. Predicting a visa application is certified when it is denied.\n",
    "2. Predicting a visa application is denied when it is certified.\n",
    "\n",
    "### Which case is more important? \n",
    "1. If the model predicts a visa application is certified when it is denied then OFLC would loss resources to process a case that is not qualified. In addition, usually there is a limited number of cases that could be approved. This spot would not be utilized for a qualified candidate. \n",
    "2. If the model predicts a visa application is denied when it is certified then OFLC would not provide enough resources on a candidate who is qualified and the employer would lost a quality employee. \n",
    "\n",
    "### Which metric to optimize?\n",
    "* We would want Recall score to be maximized, the greater the F1-Score higher the chances of predicting the certified class correctly."
   ]
  },
  {
   "cell_type": "markdown",
   "id": "538f77ea",
   "metadata": {},
   "source": [
    "**Let's define a function to provide metric scores on the train and test set and a function to show confusion matrix so that we do not have to use the same code repetitively while evaluating models.**"
   ]
  },
  {
   "cell_type": "code",
   "execution_count": null,
   "id": "cb043212",
   "metadata": {},
   "outputs": [],
   "source": [
    "# defining a function to compute different metrics to check performance of a classification model built using sklearn\n",
    "def model_performance_classification_sklearn(model, predictors, target):\n",
    "    \"\"\"\n",
    "    Function to compute different metrics to check classification model performance\n",
    "\n",
    "    model: classifier\n",
    "    predictors: independent variables\n",
    "    target: dependent variable\n",
    "    \"\"\"\n",
    "\n",
    "    # predicting using the independent variables\n",
    "    pred = model.predict(predictors)\n",
    "\n",
    "    acc = accuracy_score(target, pred)  # to compute Accuracy\n",
    "    recall = recall_score(target, pred)  # to compute Recall\n",
    "    precision = precision_score(target, pred)  # to compute Precision\n",
    "    f1 = f1_score(target, pred)  # to compute F1-score\n",
    "\n",
    "    # creating a dataframe of metrics\n",
    "    df_perf = pd.DataFrame(\n",
    "        {\n",
    "            \"Accuracy\": acc,\n",
    "            \"Recall\": recall,\n",
    "            \"Precision\": precision,\n",
    "            \"F1\": f1,\n",
    "        },\n",
    "        index=[0],\n",
    "    )\n",
    "\n",
    "    return df_perf"
   ]
  },
  {
   "cell_type": "code",
   "execution_count": null,
   "id": "7ff6b7e7",
   "metadata": {},
   "outputs": [],
   "source": [
    "def confusion_matrix_sklearn(model, predictors, target):\n",
    "    \"\"\"\n",
    "    To plot the confusion_matrix with percentages\n",
    "\n",
    "    model: classifier\n",
    "    predictors: independent variables\n",
    "    target: dependent variable\n",
    "    \"\"\"\n",
    "    y_pred = model.predict(predictors)\n",
    "    cm = confusion_matrix(target, y_pred)\n",
    "    labels = np.asarray(\n",
    "        [\n",
    "            [\"{0:0.0f}\".format(item) + \"\\n{0:.2%}\".format(item / cm.flatten().sum())]\n",
    "            for item in cm.flatten()\n",
    "        ]\n",
    "    ).reshape(2, 2)\n",
    "\n",
    "    plt.figure(figsize=(6, 4))\n",
    "    sns.heatmap(cm, annot=labels, fmt=\"\")\n",
    "    plt.ylabel(\"True label\")\n",
    "    plt.xlabel(\"Predicted label\")"
   ]
  },
  {
   "cell_type": "markdown",
   "id": "c5ec4ecf",
   "metadata": {},
   "source": [
    "## Decision Tree Classifier"
   ]
  },
  {
   "cell_type": "code",
   "execution_count": null,
   "id": "c147d82a",
   "metadata": {},
   "outputs": [],
   "source": [
    "#Fitting the model\n",
    "d_tree = DecisionTreeClassifier(random_state=1)\n",
    "d_tree.fit(X_train,y_train)\n",
    "\n",
    "#Calculating different metrics\n",
    "d_tree_model_train_perf=model_performance_classification_sklearn(d_tree,X_train,y_train)\n",
    "print(\"Training performance:\\n\",d_tree_model_train_perf)\n",
    "d_tree_model_test_perf=model_performance_classification_sklearn(d_tree,X_test,y_test)\n",
    "print(\"Testing performance:\\n\",d_tree_model_test_perf)\n",
    "\n",
    "#Creating confusion matrix\n",
    "confusion_matrix_sklearn(d_tree,X_test,y_test)"
   ]
  },
  {
   "cell_type": "markdown",
   "id": "e9b6937f",
   "metadata": {},
   "source": [
    "* The decision tree is overfitting the training data.\n",
    "* Let's try hyperparameter tuning and see if the model performance improves."
   ]
  },
  {
   "cell_type": "markdown",
   "id": "b707d38b",
   "metadata": {},
   "source": [
    "### Hyperparameter Tuning"
   ]
  },
  {
   "cell_type": "code",
   "execution_count": null,
   "id": "cb8e82c1",
   "metadata": {},
   "outputs": [],
   "source": [
    "#Choose the type of classifier. \n",
    "dtree_estimator = DecisionTreeClassifier(class_weight={0:0.18,1:0.72},random_state=1)\n",
    "\n",
    "# Grid of parameters to choose from\n",
    "parameters = {'max_depth': np.arange(2,30), \n",
    "              'min_samples_leaf': [1, 2, 5, 7, 10],\n",
    "              'max_leaf_nodes' : [2, 3, 5, 10,15],\n",
    "              'min_impurity_decrease': [0.0001,0.001,0.01,0.1]\n",
    "             }\n",
    "\n",
    "# Type of scoring used to compare parameter combinations\n",
    "scorer = metrics.make_scorer(metrics.f1_score)\n",
    "\n",
    "# Run the grid search\n",
    "grid_obj = GridSearchCV(dtree_estimator, parameters, scoring=scorer,n_jobs=-1)\n",
    "grid_obj = grid_obj.fit(X_train, y_train)\n",
    "\n",
    "# Set the clf to the best combination of parameters\n",
    "dtree_estimator = grid_obj.best_estimator_\n",
    "\n",
    "# Fit the best algorithm to the data. \n",
    "dtree_estimator.fit(X_train, y_train)"
   ]
  },
  {
   "cell_type": "code",
   "execution_count": null,
   "id": "465d6836",
   "metadata": {},
   "outputs": [],
   "source": [
    "#Calculating different metrics\n",
    "dtree_estimator_model_train_perf=model_performance_classification_sklearn(d_tree,X_train,y_train)\n",
    "print(\"Training performance:\\n\",dtree_estimator_model_train_perf)\n",
    "dtree_estimator_model_test_perf=model_performance_classification_sklearn(d_tree,X_test,y_test)\n",
    "print(\"Testing performance:\\n\",dtree_estimator_model_test_perf)\n",
    "\n",
    "#Creating confusion matrix\n",
    "confusion_matrix_sklearn(dtree_estimator,X_test,y_test)"
   ]
  },
  {
   "cell_type": "markdown",
   "id": "3525d44f",
   "metadata": {},
   "source": [
    "observation"
   ]
  },
  {
   "cell_type": "markdown",
   "id": "ca74f082",
   "metadata": {},
   "source": [
    "## Random Forest Classifier"
   ]
  },
  {
   "cell_type": "code",
   "execution_count": null,
   "id": "9213fb1c",
   "metadata": {},
   "outputs": [],
   "source": [
    "#Fitting the model\n",
    "rf_estimator = RandomForestClassifier(random_state=1)\n",
    "rf_estimator.fit(X_train,y_train)\n",
    "\n",
    "#Calculating different metrics\n",
    "rf_estimator_model_train_perf=model_performance_classification_sklearn(rf_estimator,X_train,y_train)\n",
    "print(\"Training performance:\\n\",rf_estimator_model_train_perf)\n",
    "rf_estimator_model_test_perf=model_performance_classification_sklearn(rf_estimator,X_test,y_test)\n",
    "print(\"Testing performance:\\n\",rf_estimator_model_test_perf)\n",
    "\n",
    "#Creating confusion matrix\n",
    "confusion_matrix_sklearn(rf_estimator,X_test,y_test)"
   ]
  },
  {
   "cell_type": "markdown",
   "id": "eb35b76c",
   "metadata": {},
   "source": [
    "observation"
   ]
  },
  {
   "cell_type": "markdown",
   "id": "93f9b79d",
   "metadata": {},
   "source": [
    "### Hyperparameter Tuning"
   ]
  },
  {
   "cell_type": "code",
   "execution_count": null,
   "id": "a205c2da",
   "metadata": {},
   "outputs": [],
   "source": [
    "# Choose the type of classifier. \n",
    "rf_tuned = RandomForestClassifier(class_weight={0:0.18,1:0.82},random_state=1,oob_score=True,bootstrap=True)\n",
    "\n",
    "parameters = {  \n",
    "                'max_depth': list(np.arange(5,30,5)) + [None],\n",
    "                'max_features': ['sqrt','log2',None],\n",
    "                'min_samples_leaf': np.arange(1,15,5),\n",
    "                'min_samples_split': np.arange(2, 20, 5),\n",
    "                'n_estimators': np.arange(10,110,10)}\n",
    "\n",
    "\n",
    "# Type of scoring used to compare parameter combinations\n",
    "scorer = metrics.make_scorer(metrics.f1_score)\n",
    "\n",
    "# Run the grid search\n",
    "grid_obj = GridSearchCV(rf_tuned, parameters, scoring=scorer, cv=5,n_jobs=-1)\n",
    "grid_obj = grid_obj.fit(X_train, y_train)\n",
    "\n",
    "# Set the clf to the best combination of parameters\n",
    "rf_tuned = grid_obj.best_estimator_\n",
    "\n",
    "# Fit the best algorithm to the data. \n",
    "rf_tuned.fit(X_train, y_train)"
   ]
  },
  {
   "cell_type": "code",
   "execution_count": null,
   "id": "01c4e7b5",
   "metadata": {},
   "outputs": [],
   "source": [
    "#Calculating different metrics\n",
    "rf_tuned_model_train_perf=model_performance_classification_sklearn(rf_tuned,X_train,y_train)\n",
    "print(\"Training performance:\\n\",rf_tuned_model_train_perf)\n",
    "rf_tuned_model_test_perf=model_performance_classification_sklearn(rf_tuned,X_test,y_test)\n",
    "print(\"Testing performance:\\n\",rf_tuned_model_test_perf)\n",
    "\n",
    "#Creating confusion matrix\n",
    "confusion_matrix_sklearn(rf_tuned,X_test,y_test)"
   ]
  },
  {
   "cell_type": "markdown",
   "id": "ad5ce2d5",
   "metadata": {},
   "source": [
    "observation"
   ]
  },
  {
   "cell_type": "markdown",
   "id": "690419db",
   "metadata": {},
   "source": [
    "## Bagging Classifier"
   ]
  },
  {
   "cell_type": "code",
   "execution_count": null,
   "id": "96dceaf1",
   "metadata": {},
   "outputs": [],
   "source": [
    "#Fitting the model\n",
    "bagging_classifier = BaggingClassifier(random_state=1)\n",
    "bagging_classifier.fit(X_train,y_train)\n",
    "\n",
    "#Calculating different metrics\n",
    "bagging_classifier_model_train_perf=model_performance_classification_sklearn(bagging_classifier,X_train,y_train)\n",
    "print(bagging_classifier_model_train_perf)\n",
    "bagging_classifier_model_test_perf=model_performance_classification_sklearn(bagging_classifier,X_test,y_test)\n",
    "print(bagging_classifier_model_test_perf)\n",
    "\n",
    "#Creating confusion matrix\n",
    "confusion_matrix_sklearn(bagging_classifier,X_test,y_test)"
   ]
  },
  {
   "cell_type": "markdown",
   "id": "18a0b623",
   "metadata": {},
   "source": [
    "observation"
   ]
  },
  {
   "cell_type": "markdown",
   "id": "e9ede617",
   "metadata": {},
   "source": [
    "### Hyperparameter Tuning"
   ]
  },
  {
   "cell_type": "code",
   "execution_count": null,
   "id": "4c5ab9a1",
   "metadata": {},
   "outputs": [],
   "source": [
    "# Choose the type of classifier. \n",
    "bagging_estimator_tuned = BaggingClassifier(random_state=1)\n",
    "\n",
    "# Grid of parameters to choose from\n",
    "parameters = {'max_samples': [0.7,0.8,0.9,1], \n",
    "              'max_features': [0.7,0.8,0.9,1],\n",
    "              'n_estimators' : [10,20,30,40,50],\n",
    "             }\n",
    "\n",
    "# Type of scoring used to compare parameter combinations\n",
    "scorer = metrics.make_scorer(metrics.f1_score)\n",
    "\n",
    "# Run the grid search\n",
    "grid_obj = GridSearchCV(bagging_estimator_tuned, parameters, scoring=scorer,cv=5)\n",
    "grid_obj = grid_obj.fit(X_train, y_train)\n",
    "\n",
    "# Set the clf to the best combination of parameters\n",
    "bagging_estimator_tuned = grid_obj.best_estimator_\n",
    "\n",
    "# Fit the best algorithm to the data.\n",
    "bagging_estimator_tuned.fit(X_train, y_train)"
   ]
  },
  {
   "cell_type": "code",
   "execution_count": null,
   "id": "91dcc664",
   "metadata": {},
   "outputs": [],
   "source": [
    "#Calculating different metrics\n",
    "bagging_estimator_tuned_model_train_perf=model_performance_classification_sklearn(bagging_estimator_tuned,X_train,y_train)\n",
    "print(bagging_estimator_tuned_model_train_perf)\n",
    "bagging_estimator_tuned_model_test_perf=model_performance_classification_sklearn(bagging_estimator_tuned,X_test,y_test)\n",
    "print(bagging_estimator_tuned_model_test_perf)\n",
    "\n",
    "#Creating confusion matrix\n",
    "confusion_matrix_sklearn(bagging_estimator_tuned,X_test,y_test)"
   ]
  },
  {
   "cell_type": "markdown",
   "id": "a9a4b06a",
   "metadata": {},
   "source": [
    "observation"
   ]
  },
  {
   "cell_type": "markdown",
   "id": "f1d519c8",
   "metadata": {},
   "source": [
    "## AdaBoost Classifier"
   ]
  },
  {
   "cell_type": "code",
   "execution_count": null,
   "id": "a50d9f23",
   "metadata": {},
   "outputs": [],
   "source": [
    "#Fitting the model\n",
    "ab_classifier = AdaBoostClassifier(random_state=1)\n",
    "ab_classifier.fit(X_train,y_train)\n",
    "\n",
    "#Calculating different metrics\n",
    "ab_classifier_model_train_perf=model_performance_classification_sklearn(ab_classifier,X_train,y_train)\n",
    "print(ab_classifier_model_train_perf)\n",
    "ab_classifier_model_test_perf=model_performance_classification_sklearn(ab_classifier,X_test,y_test)\n",
    "print(ab_classifier_model_test_perf)\n",
    "\n",
    "#Creating confusion matrix\n",
    "confusion_matrix_sklearn(ab_classifier,X_test,y_test)"
   ]
  },
  {
   "cell_type": "code",
   "execution_count": null,
   "id": "4ce3ffe0",
   "metadata": {},
   "outputs": [],
   "source": [
    "observation"
   ]
  },
  {
   "cell_type": "markdown",
   "id": "fd8eb15f",
   "metadata": {},
   "source": [
    "### Hyperparameter Tuning"
   ]
  },
  {
   "cell_type": "code",
   "execution_count": null,
   "id": "4b8b04de",
   "metadata": {},
   "outputs": [],
   "source": [
    "# Choose the type of classifier. \n",
    "abc_tuned = AdaBoostClassifier(random_state=1)\n",
    "\n",
    "# Grid of parameters to choose from\n",
    "parameters = {\n",
    "    #Let's try different max_depth for base_estimator\n",
    "    \"base_estimator\":[DecisionTreeClassifier(max_depth=1),DecisionTreeClassifier(max_depth=2),\n",
    "                      DecisionTreeClassifier(max_depth=3)],\n",
    "    \"n_estimators\": np.arange(10,110,10),\n",
    "    \"learning_rate\":np.arange(0.1,2,0.1)\n",
    "}\n",
    "\n",
    "# Type of scoring used to compare parameter  combinations\n",
    "scorer = metrics.make_scorer(metrics.f1_score)\n",
    "\n",
    "# Run the grid search\n",
    "grid_obj = GridSearchCV(abc_tuned, parameters, scoring=scorer,cv=5)\n",
    "grid_obj = grid_obj.fit(X_train, y_train)\n",
    "\n",
    "# Set the clf to the best combination of parameters\n",
    "abc_tuned = grid_obj.best_estimator_\n",
    "\n",
    "# Fit the best algorithm to the data.\n",
    "abc_tuned.fit(X_train, y_train)"
   ]
  },
  {
   "cell_type": "code",
   "execution_count": null,
   "id": "aef19a82",
   "metadata": {},
   "outputs": [],
   "source": [
    "#Calculating different metrics\n",
    "abc_tuned_model_train_perf=model_performance_classification_sklearn(abc_tuned,X_train,y_train)\n",
    "print(abc_tuned_model_train_perf)\n",
    "abc_tuned_model_test_perf=model_performance_classification_sklearn(abc_tuned,X_test,y_test)\n",
    "print(abc_tuned_model_test_perf)\n",
    "\n",
    "#Creating confusion matrix\n",
    "confusion_matrix_sklearn(abc_tuned,X_test,y_test)"
   ]
  },
  {
   "cell_type": "code",
   "execution_count": null,
   "id": "d5fc4792",
   "metadata": {},
   "outputs": [],
   "source": [
    "Observation"
   ]
  },
  {
   "cell_type": "markdown",
   "id": "8d6cb42a",
   "metadata": {},
   "source": [
    "## Gradient Boosting Classifier"
   ]
  },
  {
   "cell_type": "code",
   "execution_count": null,
   "id": "0d13cd14",
   "metadata": {},
   "outputs": [],
   "source": [
    "#Fitting the model\n",
    "gb_classifier = GradientBoostingClassifier(random_state=1)\n",
    "gb_classifier.fit(X_train,y_train)\n",
    "\n",
    "#Calculating different metrics\n",
    "gb_classifier_model_train_perf=model_performance_classification_sklearn(gb_classifier,X_train,y_train)\n",
    "print(\"Training performance:\\n\",gb_classifier_model_train_perf)\n",
    "gb_classifier_model_test_perf=model_performance_classification_sklearn(gb_classifier,X_test,y_test)\n",
    "print(\"Testing performance:\\n\",gb_classifier_model_test_perf)\n",
    "\n",
    "#Creating confusion matrix\n",
    "confusion_matrix_sklearn(gb_classifier,X_test,y_test)"
   ]
  },
  {
   "cell_type": "code",
   "execution_count": null,
   "id": "e10eccf6",
   "metadata": {},
   "outputs": [],
   "source": [
    "Observation"
   ]
  },
  {
   "cell_type": "markdown",
   "id": "e30ec3db",
   "metadata": {},
   "source": [
    "### Hyperparameter Tuning"
   ]
  },
  {
   "cell_type": "code",
   "execution_count": null,
   "id": "98443576",
   "metadata": {},
   "outputs": [],
   "source": [
    "# Choose the type of classifier. \n",
    "gbc_tuned = GradientBoostingClassifier(init=AdaBoostClassifier(random_state=1),random_state=1)\n",
    "\n",
    "# Grid of parameters to choose from\n",
    "parameters = {\n",
    "    \"n_estimators\": [100,150,200,250],\n",
    "    \"subsample\":[0.8,0.9,1],\n",
    "    \"max_features\":[0.7,0.8,0.9,1]\n",
    "}\n",
    "\n",
    "# Type of scoring used to compare parameter combinations\n",
    "scorer = metrics.make_scorer(metrics.f1_score)\n",
    "\n",
    "# Run the grid search\n",
    "grid_obj = GridSearchCV(gbc_tuned, parameters, scoring=scorer,cv=5)\n",
    "grid_obj = grid_obj.fit(X_train, y_train)\n",
    "\n",
    "# Set the clf to the best combination of parameters\n",
    "gbc_tuned = grid_obj.best_estimator_\n",
    "\n",
    "# Fit the best algorithm to the data.\n",
    "gbc_tuned.fit(X_train, y_train)"
   ]
  },
  {
   "cell_type": "code",
   "execution_count": null,
   "id": "e9a02b60",
   "metadata": {},
   "outputs": [],
   "source": [
    "#Calculating different metrics\n",
    "gbc_tuned_model_train_perf=model_performance_classification_sklearn(gbc_tuned,X_train,y_train)\n",
    "print(\"Training performance:\\n\",gbc_tuned_model_train_perf)\n",
    "gbc_tuned_model_test_perf=model_performance_classification_sklearn(gbc_tuned,X_test,y_test)\n",
    "print(\"Testing performance:\\n\",gbc_tuned_model_test_perf)\n",
    "\n",
    "#Creating confusion matrix\n",
    "confusion_matrix_sklearn(gbc_tuned,X_test,y_test)"
   ]
  },
  {
   "cell_type": "markdown",
   "id": "dcf92962",
   "metadata": {},
   "source": [
    "observation"
   ]
  },
  {
   "cell_type": "markdown",
   "id": "c30fad15",
   "metadata": {},
   "source": [
    "## XGBoost Classifier"
   ]
  },
  {
   "cell_type": "code",
   "execution_count": null,
   "id": "5c1bfa25",
   "metadata": {},
   "outputs": [],
   "source": [
    "#Fitting the model\n",
    "xgb_classifier = XGBClassifier(random_state=1, eval_metric='logloss')\n",
    "xgb_classifier.fit(X_train,y_train)\n",
    "\n",
    "#Calculating different metrics\n",
    "xgb_classifier_model_train_perf=model_performance_classification_sklearn(xgb_classifier,X_train,y_train)\n",
    "print(\"Training performance:\\n\",xgb_classifier_model_train_perf)\n",
    "xgb_classifier_model_test_perf=model_performance_classification_sklearn(xgb_classifier,X_test,y_test)\n",
    "print(\"Testing performance:\\n\",xgb_classifier_model_test_perf)\n",
    "\n",
    "#Creating confusion matrix\n",
    "confusion_matrix_sklearn(xgb_classifier,X_test,y_test)"
   ]
  },
  {
   "cell_type": "code",
   "execution_count": null,
   "id": "2f84d4f1",
   "metadata": {},
   "outputs": [],
   "source": [
    "Observation"
   ]
  },
  {
   "cell_type": "markdown",
   "id": "f504396f",
   "metadata": {},
   "source": [
    "### Hyperparameter Tuning"
   ]
  },
  {
   "cell_type": "code",
   "execution_count": null,
   "id": "8f7d4a08",
   "metadata": {},
   "outputs": [],
   "source": [
    "# Choose the type of classifier. \n",
    "xgb_tuned = XGBClassifier(random_state=1, eval_metric='logloss')\n",
    "\n",
    "# Grid of parameters to choose from\n",
    "parameters = {\n",
    "    \"n_estimators\": [10,30,50],\n",
    "    \"scale_pos_weight\":[1,2,5],\n",
    "    \"subsample\":[0.7,0.9,1],\n",
    "    \"learning_rate\":[0.05, 0.1,0.2],\n",
    "    \"colsample_bytree\":[0.7,0.9,1],\n",
    "    \"colsample_bylevel\":[0.5,0.7,1]\n",
    "}\n",
    "\n",
    "# Type of scoring used to compare parameter combinations\n",
    "scorer = metrics.make_scorer(metrics.f1_score)\n",
    "\n",
    "# Run the grid search\n",
    "grid_obj = GridSearchCV(xgb_tuned, parameters,scoring=scorer,cv=5)\n",
    "grid_obj = grid_obj.fit(X_train, y_train)\n",
    "\n",
    "# Set the clf to the best combination of parameters\n",
    "xgb_tuned = grid_obj.best_estimator_\n",
    "\n",
    "# Fit the best algorithm to the data.\n",
    "xgb_tuned.fit(X_train, y_train)"
   ]
  },
  {
   "cell_type": "code",
   "execution_count": null,
   "id": "42b40d9b",
   "metadata": {},
   "outputs": [],
   "source": [
    "#Calculating different metrics\n",
    "xgb_tuned_model_train_perf=model_performance_classification_sklearn(xgb_tuned,X_train,y_train)\n",
    "print(\"Training performance:\\n\",xgb_tuned_model_train_perf)\n",
    "xgb_tuned_model_test_perf=model_performance_classification_sklearn(xgb_tuned,X_test,y_test)\n",
    "print(\"Testing performance:\\n\",xgb_tuned_model_test_perf)\n",
    "\n",
    "#Creating confusion matrix\n",
    "confusion_matrix_sklearn(xgb_tuned,X_test,y_test)"
   ]
  },
  {
   "cell_type": "code",
   "execution_count": null,
   "id": "3ca06f25",
   "metadata": {},
   "outputs": [],
   "source": [
    "Observation"
   ]
  },
  {
   "cell_type": "markdown",
   "id": "obvious-maine",
   "metadata": {
    "id": "obvious-maine"
   },
   "source": [
    "## Model Performance Comparison and Conclusions"
   ]
  },
  {
   "cell_type": "markdown",
   "id": "b3f009d4",
   "metadata": {},
   "source": [
    "## Comparing all models"
   ]
  },
  {
   "cell_type": "code",
   "execution_count": null,
   "id": "bcaf2747",
   "metadata": {},
   "outputs": [],
   "source": [
    "# training performance comparison\n",
    "\n",
    "models_train_comp_df = pd.concat(\n",
    "    [d_tree_model_train_perf.T,dtree_estimator_model_train_perf.T,rf_estimator_model_train_perf.T,rf_tuned_model_train_perf.T,\n",
    "     bagging_classifier_model_train_perf.T,bagging_estimator_tuned_model_train_perf.T,ab_classifier_model_train_perf.T,\n",
    "     abc_tuned_model_train_perf.T,gb_classifier_model_train_perf.T,gbc_tuned_model_train_perf.T,xgb_classifier_model_train_perf.T,\n",
    "    xgb_tuned_model_train_perf.T,stacking_classifier_model_train_perf.T],\n",
    "    axis=1,\n",
    ")\n",
    "models_train_comp_df.columns = [\n",
    "    \"Decision Tree\",\n",
    "    \"Decision Tree Estimator\",\n",
    "    \"Random Forest Estimator\",\n",
    "    \"Random Forest Tuned\",\n",
    "    \"Bagging Classifier\",\n",
    "    \"Bagging Estimator Tuned\",\n",
    "    \"Adaboost Classifier\",\n",
    "    \"Adabosst Classifier Tuned\",\n",
    "    \"Gradient Boost Classifier\",\n",
    "    \"Gradient Boost Classifier Tuned\",\n",
    "    \"XGBoost Classifier\",\n",
    "    \"XGBoost Classifier Tuned\",\n",
    "    \"Stacking Classifier\"]\n",
    "print(\"Training performance comparison:\")\n",
    "models_train_comp_df"
   ]
  },
  {
   "cell_type": "code",
   "execution_count": null,
   "id": "e37cd796",
   "metadata": {},
   "outputs": [],
   "source": [
    "# testing performance comparison\n",
    "\n",
    "models_test_comp_df = pd.concat(\n",
    "    [d_tree_model_test_perf.T,dtree_estimator_model_test_perf.T,rf_estimator_model_test_perf.T,rf_tuned_model_test_perf.T,\n",
    "     bagging_classifier_model_test_perf.T,bagging_estimator_tuned_model_test_perf.T,ab_classifier_model_test_perf.T,\n",
    "     abc_tuned_model_test_perf.T,gb_classifier_model_test_perf.T,gbc_tuned_model_test_perf.T,xgb_classifier_model_test_perf.T,\n",
    "    xgb_tuned_model_test_perf.T,stacking_classifier_model_test_perf.T],\n",
    "    axis=1,\n",
    ")\n",
    "models_test_comp_df.columns = [\n",
    "    \"Decision Tree\",\n",
    "    \"Decision Tree Estimator\",\n",
    "    \"Random Forest Estimator\",\n",
    "    \"Random Forest Tuned\",\n",
    "    \"Bagging Classifier\",\n",
    "    \"Bagging Estimator Tuned\",\n",
    "    \"Adaboost Classifier\",\n",
    "    \"Adabosst Classifier Tuned\",\n",
    "    \"Gradient Boost Classifier\",\n",
    "    \"Gradient Boost Classifier Tuned\",\n",
    "    \"XGBoost Classifier\",\n",
    "    \"XGBoost Classifier Tuned\",\n",
    "    \"Stacking Classifier\"]\n",
    "print(\"Testing performance comparison:\")\n",
    "models_test_comp_df"
   ]
  },
  {
   "cell_type": "code",
   "execution_count": null,
   "id": "6134c0cc",
   "metadata": {},
   "outputs": [],
   "source": [
    "Observation"
   ]
  },
  {
   "cell_type": "markdown",
   "id": "97d21f25",
   "metadata": {},
   "source": [
    "### Feature importance of `Tuned Random Forest`"
   ]
  },
  {
   "cell_type": "code",
   "execution_count": null,
   "id": "aacbf694",
   "metadata": {},
   "outputs": [],
   "source": [
    "feature_names = X_train.columns\n",
    "importances = rf_tuned.feature_importances_\n",
    "indices = np.argsort(importances)\n",
    "\n",
    "plt.figure(figsize=(12,12))\n",
    "plt.title('Feature Importances')\n",
    "plt.barh(range(len(indices)), importances[indices], color='violet', align='center')\n",
    "plt.yticks(range(len(indices)), [feature_names[i] for i in indices])\n",
    "plt.xlabel('Relative Importance')\n",
    "plt.show()"
   ]
  },
  {
   "cell_type": "markdown",
   "id": "prime-athletics",
   "metadata": {
    "id": "prime-athletics"
   },
   "source": [
    "##  Will tuning the hyperparameters improve the model performance?"
   ]
  },
  {
   "cell_type": "code",
   "execution_count": null,
   "id": "banned-difficulty",
   "metadata": {
    "id": "banned-difficulty"
   },
   "outputs": [],
   "source": []
  },
  {
   "cell_type": "code",
   "execution_count": null,
   "id": "everyday-kinase",
   "metadata": {
    "id": "everyday-kinase"
   },
   "outputs": [],
   "source": []
  },
  {
   "cell_type": "markdown",
   "id": "nasty-retailer",
   "metadata": {
    "id": "nasty-retailer"
   },
   "source": [
    "## Actionable Insights and Recommendations"
   ]
  },
  {
   "cell_type": "markdown",
   "id": "afedcef9",
   "metadata": {
    "id": "amino-prediction"
   },
   "source": [
    "* Facilitate the process of visa approvals.\n",
    "* Recommend a suitable profile for the applicants for whom the visa should be certified or denied based on the drivers that significantly influence the case status."
   ]
  },
  {
   "cell_type": "code",
   "execution_count": null,
   "id": "29221675",
   "metadata": {},
   "outputs": [],
   "source": []
  },
  {
   "cell_type": "code",
   "execution_count": null,
   "id": "cda6c8f5",
   "metadata": {},
   "outputs": [],
   "source": [
    "Archive"
   ]
  },
  {
   "cell_type": "markdown",
   "id": "alleged-spirituality",
   "metadata": {
    "id": "alleged-spirituality"
   },
   "source": [
    "## Data Preprocessing\n",
    "\n",
    "- Missing value treatment (if needed)\n",
    "- Feature engineering \n",
    "- Outlier detection and treatment (if needed)\n",
    "- Preparing data for modeling \n",
    "- Any other preprocessing steps (if needed)"
   ]
  },
  {
   "cell_type": "markdown",
   "id": "5a9750a8",
   "metadata": {},
   "source": [
    "#### Checking Outliers"
   ]
  },
  {
   "cell_type": "code",
   "execution_count": null,
   "id": "55fc8721",
   "metadata": {},
   "outputs": [],
   "source": [
    "# outlier detection using boxplot\n",
    "numeric_columns = data.select_dtypes(include=np.number).columns.tolist()\n",
    "# dropping release_year as it is a temporal variable\n",
    "#numeric_columns.remove(\"case_status\")\n",
    "\n",
    "plt.figure(figsize=(15, 12))\n",
    "\n",
    "for i, variable in enumerate(numeric_columns):\n",
    "    plt.subplot(4, 4, i + 1)\n",
    "    plt.boxplot(data[variable], whis=1.5)\n",
    "    plt.tight_layout()\n",
    "    plt.title(variable)\n",
    "\n",
    "plt.show()\n",
    "plt.savefig(\"outliers.png\")"
   ]
  }
 ],
 "metadata": {
  "colab": {
   "collapsed_sections": [],
   "name": "EasyVisa_Project_Template_Notebook.ipynb",
   "provenance": []
  },
  "kernelspec": {
   "display_name": "Python 3 (ipykernel)",
   "language": "python",
   "name": "python3"
  },
  "language_info": {
   "codemirror_mode": {
    "name": "ipython",
    "version": 3
   },
   "file_extension": ".py",
   "mimetype": "text/x-python",
   "name": "python",
   "nbconvert_exporter": "python",
   "pygments_lexer": "ipython3",
   "version": "3.9.7"
  }
 },
 "nbformat": 4,
 "nbformat_minor": 5
}
